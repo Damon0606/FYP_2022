{
 "cells": [
  {
   "cell_type": "markdown",
   "id": "696b3e3b",
   "metadata": {},
   "source": [
    "#### 可能要改改适应度函数：从以上结果我们可以看出，这几种结果对最后的优化结果都没有什么影响。但是对其优化速度和平滑性都有影响。这也正是适应度函数选择的意义，选的好的话就可以加快优化效果。"
   ]
  },
  {
   "cell_type": "markdown",
   "id": "5f009534",
   "metadata": {},
   "source": [
    "适应度函数可以对原来的目标函数值做一些变换（比如log）——减小值之间差距过大的问题"
   ]
  },
  {
   "cell_type": "markdown",
   "id": "0a3e6daf",
   "metadata": {},
   "source": [
    "### 算法优化"
   ]
  },
  {
   "cell_type": "markdown",
   "id": "ab177b93",
   "metadata": {},
   "source": [
    "限制范围变大/变量数量变多后 原方法（or穷举法）不适用\n",
    "\n",
    "能判断凹凸性吗——离散也不好判断凹凸性\n",
    "\n",
    "也求不了导——离散求不了导，连续目标函数的解法都用不了\n",
    "\n",
    "智能优化算法"
   ]
  },
  {
   "cell_type": "markdown",
   "id": "07759702",
   "metadata": {},
   "source": [
    "### 智能算法"
   ]
  },
  {
   "cell_type": "markdown",
   "id": "ad1cf6b7",
   "metadata": {},
   "source": [
    "### 遗传算法"
   ]
  },
  {
   "cell_type": "code",
   "execution_count": 620,
   "id": "d007f6f1",
   "metadata": {},
   "outputs": [],
   "source": [
    "import numpy as np\n",
    "import pandas as pd\n",
    "import random\n",
    "import math\n",
    "import matplotlib.pyplot as plt"
   ]
  },
  {
   "cell_type": "markdown",
   "id": "b27a48fc",
   "metadata": {},
   "source": [
    "### 参数定义"
   ]
  },
  {
   "cell_type": "code",
   "execution_count": 621,
   "id": "ae5b2d6e",
   "metadata": {},
   "outputs": [],
   "source": [
    "# 常数\n",
    "\n",
    "v = 2  # lower limit of m\n",
    "M = 10  # upper limit of m\n",
    "t = 2  # lower limit of theta\n",
    "N = 20  # upper limit of theta\n",
    "rd = 1.2*1024#kb/s  # the downlink transmission rate\n",
    "ru = 1.3*1024#kb/s  # the uplink transmission rate\n",
    "O = 0.5*1024#kb  # the verification feedback size\n",
    "B = 1#kb  # the transaction size\n",
    "psi = 0.5  # a predefined parameter that can be defined leveraging the statistics on previous processes of block verification"
   ]
  },
  {
   "cell_type": "code",
   "execution_count": 622,
   "id": "44d68954",
   "metadata": {},
   "outputs": [],
   "source": [
    "# 随机模拟的数据\n",
    "\n",
    "Xi = np.random.uniform(10**3*8/128, 10**6*8/128, M)  # the amount of available computational resources at verifier i \n",
    "\n",
    "K = np.random.uniform(5, 500)  # the required computational resources for block verification task\n",
    "kappa = np.random.uniform(1, 10)  # a coefficient given by the system\n",
    "q = np.random.uniform(2, 10)  # an indicator factor representing the network scale\n",
    "rho = np.random.normal(100, 5, M)  # the payment from verifier i to a cloud service provider\n",
    "ci = np.multiply(rho, Xi)  #  the computational cost of verifier i"
   ]
  },
  {
   "cell_type": "code",
   "execution_count": 623,
   "id": "32a1607a",
   "metadata": {},
   "outputs": [],
   "source": [
    "population_size = 10\n",
    "\n",
    "dig_theta = 5  # #theta (5个0-1变量表示theta——根据取值范围定的)\n",
    "M = 10  # #0-1 z\n",
    "chromosome_length = dig_theta + M  # (m=sum(z), theta[5], 0-1z[M])"
   ]
  },
  {
   "cell_type": "markdown",
   "id": "016ae550",
   "metadata": {},
   "source": [
    "### 种群初始化 "
   ]
  },
  {
   "cell_type": "code",
   "execution_count": 624,
   "id": "8d1cf6ce",
   "metadata": {},
   "outputs": [],
   "source": [
    "population = []\n",
    "for i in range(population_size):\n",
    "        temporary = []\n",
    "        #染色体暂存器\n",
    "        for j in range(chromosome_length):  # 这里的chromosome_length-4要根据m的取值范围改\n",
    "            temporary.append(random.randint(0,1))\n",
    "            #随机产生一个染色体,由二进制数组成\n",
    "        population.append(temporary)\n",
    "            #将染色体添加到种群中"
   ]
  },
  {
   "cell_type": "code",
   "execution_count": 625,
   "id": "1550c030",
   "metadata": {},
   "outputs": [],
   "source": [
    "# 初始化生成chromosome_length大小的population_size个个体的二进制基因型种群\n",
    "def species_origin(population_size, chromosome_length):\n",
    "    population = []\n",
    "    #二维列表，包含染色体和基因\n",
    "    for i in range(population_size):\n",
    "        temporary = []\n",
    "        #染色体暂存器\n",
    "        for j in range(chromosome_length):  # 这里的chromosome_length-4要根据m的取值范围改\n",
    "            temporary.append(random.randint(0,1))\n",
    "            #随机产生一个染色体,由二进制数组成\n",
    "        population.append(temporary)\n",
    "            #将染色体添加到种群中\n",
    "    \n",
    "    for k in range (population_size):\n",
    "        \n",
    "        total = 0\n",
    "        \n",
    "        while sum(population[k][0:M-1]) == 0:\n",
    "            \n",
    "            population[k][0:M-1] = np.random.randint(0,2,M)\n",
    "        \n",
    "        for i in range (M,chromosome_length,1):\n",
    "            total += population[k][i]*(math.pow(2,i-M))\n",
    "            \n",
    "        while total < t or total > N:  # 提前进行了处理，不满足2<m<10的话直接重新生成 保证生成的m还是等概率均匀分布\n",
    "            population[k][M:chromosome_length] = np.random.randint(0,2,dig_theta)\n",
    "            total = 0\n",
    "            for j in range (M,chromosome_length,1):\n",
    "                total += population[k][j]*(math.pow(2,j-M))\n",
    "        \n",
    "    return np.array(population)\n",
    "            # 将种群返回，种群是个二维数组，个体和染色体两维"
   ]
  },
  {
   "cell_type": "markdown",
   "id": "6b3835c5",
   "metadata": {},
   "source": [
    "### 编码 "
   ]
  },
  {
   "cell_type": "code",
   "execution_count": 643,
   "id": "bf9fa95f",
   "metadata": {},
   "outputs": [],
   "source": [
    "# 从二进制到十进制\n",
    "# input:种群,染色体长度\n",
    "\n",
    "def transformation(population):\n",
    "    \n",
    "    population = population\n",
    "\n",
    "    output_matrix = []\n",
    "\n",
    "    length = population.shape[1]\n",
    "\n",
    "\n",
    "    for i in range(population.shape[0]):\n",
    "\n",
    "        output_line = []\n",
    "        temp1 = []\n",
    "        temp2 = []\n",
    "        temp3 = []\n",
    "        total1 = 0\n",
    "        total2 = 0\n",
    "\n",
    "        for j in range(length):\n",
    "            if j < M:\n",
    "                temp1.append(population[i,j])\n",
    "\n",
    "            else:\n",
    "                total1 += population[i,j]*(math.pow(2,j-M))\n",
    "\n",
    "        temp2.append(total1)\n",
    "\n",
    "        temp3 = [sum(temp1)]\n",
    "    \n",
    "        output_line = temp3 + temp2 + temp1\n",
    "\n",
    "        output_matrix.append(output_line)\n",
    "    \n",
    "    return np.array(output_matrix)"
   ]
  },
  {
   "cell_type": "markdown",
   "id": "40397728",
   "metadata": {},
   "source": [
    "### 适应度计算"
   ]
  },
  {
   "cell_type": "code",
   "execution_count": 644,
   "id": "5ad306e9",
   "metadata": {},
   "outputs": [],
   "source": [
    "# beta1,2,3: weights;\n",
    "# m: the number of the selected verifiiers\n",
    "# theta: the number of transactions per block\n",
    "\n",
    "\n",
    "# 处理目标函数的Security部分分母不能为零的问题\n",
    "def  denominator0(z,Xi):\n",
    "    \n",
    "    maxi = []\n",
    "    tem = 0\n",
    "    \n",
    "    for i in range(10):\n",
    "        if z[i] == 0:\n",
    "            tem = 0\n",
    "            maxi.append(tem)\n",
    "        else:\n",
    "            tem = K*(1/(z[i]*Xi[i]))\n",
    "            maxi.append(tem)\n",
    "            \n",
    "    return np.max(maxi)\n",
    "        \n",
    "\n",
    "# 目标函数\n",
    "def obj_fun_GA(beta1,beta2,beta3,m,theta,z):\n",
    "    \n",
    "    ci_sel = z*ci\n",
    "    \n",
    "    L = (theta*B/rd)+denominator0(z,Xi)+(psi*theta*B*m)+(O/ru)  # Latency\n",
    "    S = kappa*m**q  # Secuity     \n",
    "    C = np.sum(ci_sel)/theta  # Cost\n",
    "    \n",
    "    L_m = (N*B/rd)+denominator0(z,Xi)+(psi*N*B*M)+(O/ru)\n",
    "    S_m = kappa*M**q\n",
    "    C_m = ci_sel.sum()/t\n",
    "    \n",
    "    u = beta1*(L/L_m)+beta2*((S_m-S)/S_m)+beta3*(C/C_m)\n",
    "    return u"
   ]
  },
  {
   "cell_type": "code",
   "execution_count": 645,
   "id": "d6db1fa2",
   "metadata": {},
   "outputs": [],
   "source": [
    "# 目标函数相当于环境 对染色体进行筛选\n",
    "\n",
    "# 将整个族群的目标函数值整合起来\n",
    "def ofunction(population):\n",
    "    \n",
    "    f = 0\n",
    "    obj_function = []\n",
    "   \n",
    "    # 暂存种群中的所有的染色体(十进制)\n",
    "    \n",
    "    beta1 = 1/3\n",
    "    beta2 = 1/3\n",
    "    beta3 = 1/3\n",
    "    \n",
    "    population_size = population.shape[0]\n",
    "    \n",
    "    for i in range(population_size):\n",
    "        \n",
    "        m = transformation(population)[i][0]\n",
    "        theta = transformation(population)[i][1]\n",
    "        z = transformation(population)[i][2:2+M]\n",
    "        \n",
    "        f = obj_fun_GA(beta1,beta2,beta3,m,theta,z)\n",
    "        \n",
    "        obj_function.append(f)\n",
    "        # 这里目标函数，也是适应度函数\n",
    "        \n",
    "    return np.array(obj_function)"
   ]
  },
  {
   "cell_type": "markdown",
   "id": "55e8af1b",
   "metadata": {},
   "source": [
    "###### test: 怎么看起来不太随机???"
   ]
  },
  {
   "cell_type": "markdown",
   "id": "83ada38c",
   "metadata": {
    "scrolled": true
   },
   "source": [
    "population = species_origin(population_size, chromosome_length)\n",
    "transformation(population)"
   ]
  },
  {
   "cell_type": "markdown",
   "id": "6c8e605d",
   "metadata": {
    "scrolled": true
   },
   "source": [
    "ofunction(population)"
   ]
  },
  {
   "cell_type": "markdown",
   "id": "dd169482",
   "metadata": {},
   "source": [
    "### 选择"
   ]
  },
  {
   "cell_type": "markdown",
   "id": "b8e57e59",
   "metadata": {},
   "source": [
    "##### 问题：分布很不正太，可能会有很多极大值但是绝大多数函数值都很小，概率会不会受影响？"
   ]
  },
  {
   "cell_type": "markdown",
   "id": "1b13dcee",
   "metadata": {},
   "source": [
    "##### 适应度函数"
   ]
  },
  {
   "cell_type": "markdown",
   "id": "0fadbcfa",
   "metadata": {},
   "source": [
    "##### 关键 !!!——能否高效选择出优秀的个体"
   ]
  },
  {
   "cell_type": "markdown",
   "id": "c80dcaab",
   "metadata": {},
   "source": [
    "##### 转换后要使reverse函数中(fit_max-fit_min)大于0"
   ]
  },
  {
   "cell_type": "code",
   "execution_count": 572,
   "id": "cf7bc1fc",
   "metadata": {},
   "outputs": [],
   "source": [
    "def FIT(obj_function):\n",
    "    \n",
    "    Fit = np.exp(np.array(obj_function)+1)**2\n",
    "    \n",
    "    return Fit"
   ]
  },
  {
   "cell_type": "markdown",
   "id": "aa8aabc3",
   "metadata": {},
   "source": [
    "## population = species_origin(population_size, chromosome_length)\n",
    "ofunction(population)"
   ]
  },
  {
   "cell_type": "markdown",
   "id": "d54d6ab5",
   "metadata": {},
   "source": [
    "np.max(ofunction(population))-np.min(ofunction(population))"
   ]
  },
  {
   "cell_type": "markdown",
   "id": "b88fb076",
   "metadata": {},
   "source": [
    "FIT(ofunction(population))"
   ]
  },
  {
   "cell_type": "markdown",
   "id": "1b0be9dd",
   "metadata": {},
   "source": [
    "np.max(FIT(ofunction(population)))-np.min(FIT(ofunction(population)))"
   ]
  },
  {
   "cell_type": "markdown",
   "id": "fa1cbf8d",
   "metadata": {},
   "source": [
    "##### 提前简化算法的函数"
   ]
  },
  {
   "cell_type": "code",
   "execution_count": 636,
   "id": "50c020bd",
   "metadata": {},
   "outputs": [],
   "source": [
    "# 计算适应度和\n",
    "def SUM(fitness):\n",
    "    total = 0\n",
    "    for i in range(len(fitness)):\n",
    "        total += fitness[i]\n",
    "    return total\n",
    " \n",
    "# 计算适应度斐波纳挈列表，这里是为了求出累积的适应度（cdf）\n",
    "def cumsum(new_fitness):\n",
    "    for i in range(len(new_fitness)-1,0,-1):\n",
    "        # range(start,stop,[step])\n",
    "        # 倒计数\n",
    "        total = 0\n",
    "        j = 0\n",
    "        while(j <= i):\n",
    "            total += new_fitness[j]\n",
    "            j += 1\n",
    "            \n",
    "        # 这里是为了将适应度划分成区间\n",
    "        new_fitness[i] = total\n",
    "        new_fitness[len(new_fitness)-1] = 1 # 概率最大是1\n",
    "        \n",
    "    return new_fitness"
   ]
  },
  {
   "cell_type": "markdown",
   "id": "d1200c98",
   "metadata": {},
   "source": [
    "##### 选择主体函数"
   ]
  },
  {
   "cell_type": "code",
   "execution_count": 637,
   "id": "76670d23",
   "metadata": {},
   "outputs": [],
   "source": [
    "# 选择种群中个体适应度最大的个体\n",
    "# def selection(population,fitness):\n",
    "\n",
    "def reverse(fitness, population_size):\n",
    "    \n",
    "    rev = np.zeros(population_size)\n",
    "    \n",
    "    fit_max = max(fitness)\n",
    "    fit_min = min(fitness)\n",
    "    \n",
    "#     print(fit_max-fit_min)\n",
    "    \n",
    "#     while (fit_max-fit_min) <= 0:\n",
    "#         mutation(population,pm)\n",
    "    \n",
    "#     print(fit_max-fit_min)\n",
    "    \n",
    "    \n",
    "    for i in range(population_size):\n",
    "        rev[i] = (fit_max - fitness[i])/(fit_max - fit_min)\n",
    "        \n",
    "    return rev\n",
    "\n",
    "def selection(population):\n",
    "    \n",
    "#     print(ofunction(population), population_size)\n",
    "    \n",
    "    fitness = reverse(ofunction(population), population_size)\n",
    "    \n",
    "#     print(fitness)\n",
    "    \n",
    "    # 单个公式暂存器\n",
    "    new_fitness = []\n",
    "    \n",
    "    # 将所有的适应度求和\n",
    "    total_fitness = SUM(fitness)\n",
    "    \n",
    "    # 适应度值从小到大排序\n",
    "#     print(fitness)\n",
    "    fitness.sort()\n",
    "#     print(fitness)\n",
    "    \n",
    "\n",
    "# 这里错的 因为目标函数是越小越好\n",
    "#                 # 将所有个体的适应度概率化,类似于softmax\n",
    "#                 for i in range(len(fitness)):\n",
    "#                     new_fitness.append(fitness[i]/total_fitness)\n",
    "\n",
    "    # 将所有个体的适应度概率化,类似于softmax\n",
    "    \n",
    "    \n",
    "    for i in range(len(fitness)):\n",
    "        new_fitness.append(fitness[i]/total_fitness)\n",
    "    \n",
    "#     print(fitness, total_fitness)\n",
    "#     print(new_fitness)\n",
    "#     print(sum(new_fitness))\n",
    "\n",
    "    \n",
    "    # 计算适应度斐波纳挈列表，即累积的适应度(按概率大小从小到大排列最后一个元素是1)\n",
    "    cumsum(new_fitness)\n",
    "#     print(cumsum(new_fitness))  # print会把里面再跑一遍所以不对\n",
    "    \n",
    "    # 新建一个list储存存活的种群\n",
    "    ms = []\n",
    "    \n",
    "    # 求出种群长度\n",
    "    population_length = pop_len = len(population)\n",
    "    \n",
    "    # 根据随机数确定哪几个能存活\n",
    "    # 产生种群个数的随机值\n",
    "    for i in range(pop_len):\n",
    "        ms.append(random.random())\n",
    "    \n",
    "    # 存活的种群从小到大排序\n",
    "    ms.sort()\n",
    "#     print(ms)\n",
    "    \n",
    "    # 轮盘赌方式\n",
    "    fitin = 0\n",
    "    newin = 0\n",
    "    new_population = new_pop = population\n",
    "    \n",
    "    while newin < pop_len:\n",
    "        if(ms[newin] < new_fitness[fitin]):\n",
    "            new_pop[newin] = population[fitin]\n",
    "            newin += 1\n",
    "        else:\n",
    "            fitin += 1\n",
    "\n",
    "#     population1 = new_pop\n",
    "    \n",
    "#     return population1\n",
    "\n",
    "    population = new_pop\n",
    "    \n",
    "    population = np.array(population)\n",
    "    \n",
    "    return population"
   ]
  },
  {
   "cell_type": "markdown",
   "id": "ea958494",
   "metadata": {},
   "source": [
    "population = species_origin(population_size, chromosome_length)\n",
    "ofunction(population)"
   ]
  },
  {
   "cell_type": "markdown",
   "id": "1e068417",
   "metadata": {},
   "source": [
    "np.mean(ofunction(population))"
   ]
  },
  {
   "cell_type": "markdown",
   "id": "0fb473bc",
   "metadata": {},
   "source": [
    "ofunction(selection(population))"
   ]
  },
  {
   "cell_type": "markdown",
   "id": "afd50a39",
   "metadata": {},
   "source": [
    "np.mean(ofunction(selection(population)))"
   ]
  },
  {
   "cell_type": "markdown",
   "id": "acc2871e",
   "metadata": {},
   "source": [
    "### 交叉"
   ]
  },
  {
   "cell_type": "code",
   "execution_count": 638,
   "id": "fffee451",
   "metadata": {},
   "outputs": [],
   "source": [
    "# 针对上面的问题改成随机将第i个和第j个的染色体进行交换\n",
    "\n",
    "# def crossover(population,pc):\n",
    "# pc是概率阈值，选择单点交叉还是多点交叉，生成新的交叉个体，这里没用\n",
    "\n",
    "def crossover(population):\n",
    "\n",
    "    pop_len = len(population)\n",
    "    \n",
    "#     population1 = population\n",
    " \n",
    "    i = random.randint(0,len(population)-1)\n",
    "    j = random.randint(0,len(population)-1)\n",
    "    \n",
    "#     while i == j or i+j > (len(population)-1):\n",
    "#         j = random.randint(0,len(population)-1)\n",
    "\n",
    "    while i == j:\n",
    "        j = random.randint(0,len(population)-1)\n",
    "        \n",
    "    # 在种群个数内随机生成单点交叉点(在染色体的第cpoint个位置发生交叉)\n",
    "    cpoint = random.randint(0,len(population[0]))\n",
    "        \n",
    "     \n",
    "    temporary1 = []\n",
    "    temporary2 = []\n",
    "         \n",
    "    # 将tmporary1作为暂存器，暂时存放第i个染色体中的前0到cpoint个基因，\n",
    "    # 然后再把第j个染色体中的后cpoint到第i个染色体中的基因个数，补充到temporary2后面\n",
    "    temporary1.extend(population[i][0:cpoint])\n",
    "    temporary1.extend(population[j][cpoint:len(population[i])])\n",
    "\n",
    "    # 将tmporary2作为暂存器，暂时存放第j个染色体中的前0到cpoint个基因，\n",
    "    # 然后再把第i个染色体中的后cpoint到第i个染色体中的基因个数，补充到temporary2后面\n",
    "    temporary2.extend(population[j][0:cpoint])\n",
    "    temporary2.extend(population[i][cpoint:len(population[i])])\n",
    "\n",
    "    # 第i个染色体和第j个染色体基因重组/交叉完成\n",
    "    population[i] = temporary1\n",
    "    population[j] = temporary2\n",
    "    \n",
    "    while np.array(transformation(population))[i][1] > N or np.array(transformation(population))[i][1] < t:\n",
    "#         population1 = population\n",
    "        for i in range(pop_len-1):\n",
    "        \n",
    "            # 在种群个数内随机生成单点交叉点(在染色体的第cpoint个位置发生交叉)\n",
    "            cpoint=random.randint(0,len(population[0]))\n",
    "        \n",
    "     \n",
    "            temporary1 = []\n",
    "            temporary2 = []\n",
    "         \n",
    "            # 将tmporary1作为暂存器，暂时存放第i个染色体中的前0到cpoint个基因，\n",
    "            # 然后再把第j个染色体中的后cpoint到第i个染色体中的基因个数，补充到temporary2后面\n",
    "            temporary1.extend(population[i][0:cpoint])\n",
    "            temporary1.extend(population[j][cpoint:len(population[i])])\n",
    "\n",
    "            # 将tmporary2作为暂存器，暂时存放第j个染色体中的前0到cpoint个基因，\n",
    "            # 然后再把第i个染色体中的后cpoint到第i个染色体中的基因个数，补充到temporary2后面\n",
    "            temporary2.extend(population[j][0:cpoint])\n",
    "            temporary2.extend(population[i][cpoint:len(population[i])])\n",
    "\n",
    "            # 第i个染色体和第j个染色体基因重组/交叉完成\n",
    "            population[i] = temporary1\n",
    "            population[j] = temporary2\n",
    "        \n",
    "    population = np.array(population)\n",
    "    \n",
    "    return population\n",
    "            \n",
    "#     print(i,j)\n",
    "                \n",
    "        \n",
    "#     return population"
   ]
  },
  {
   "cell_type": "markdown",
   "id": "09175617",
   "metadata": {
    "scrolled": true
   },
   "source": [
    "population = species_origin(population_size, chromosome_length)\n",
    "ofunction(population)"
   ]
  },
  {
   "cell_type": "markdown",
   "id": "0c405993",
   "metadata": {},
   "source": [
    "np.mean(ofunction(population))"
   ]
  },
  {
   "cell_type": "markdown",
   "id": "57f1efc4",
   "metadata": {},
   "source": [
    "ofunction(crossover(population))"
   ]
  },
  {
   "cell_type": "markdown",
   "id": "1425b6e2",
   "metadata": {},
   "source": [
    "np.mean(ofunction(crossover(population)))"
   ]
  },
  {
   "cell_type": "markdown",
   "id": "99f46cc2",
   "metadata": {},
   "source": [
    "### 变异"
   ]
  },
  {
   "cell_type": "code",
   "execution_count": 639,
   "id": "2ec6e77d",
   "metadata": {},
   "outputs": [],
   "source": [
    "# def mutation(population,pm):\n",
    "# pm是概率阈值\n",
    "\n",
    "def mutation(population,pm):\n",
    "    \n",
    "#     population1 = population\n",
    "    \n",
    "    # 求出种群中所有种群/个体的个数\n",
    "    px = len(population)\n",
    "\n",
    "    # 染色体/个体中基因的个数  \n",
    "    py = len(population[0])\n",
    "  \n",
    "    \n",
    "    for i in range(px):\n",
    "        \n",
    "        # 如果小于阈值就变异\n",
    "        if(random.random() < pm):\n",
    "            # 生成0到py-1的随机数\n",
    "            mpoint = random.randint(0,py-1)\n",
    "            \n",
    "            #将mpoint个基因进行单点随机变异，变为0或者1\n",
    "            if(population[i][mpoint] == 1):\n",
    "                population[i][mpoint] = 0\n",
    "#                 print(i)\n",
    "            else:\n",
    "                population[i][mpoint] = 1\n",
    "#                 print(i)\n",
    "#         print(i)\n",
    "        \n",
    "    while np.array(transformation(population))[i][1] > 20 or np.array(transformation(population))[i][1] < 2:\n",
    "#         population1 = population\n",
    "        for i in range(px):\n",
    "        \n",
    "            # 如果小于阈值就变异\n",
    "            if(random.random() < pm):\n",
    "                # 生成0到py-1的随机数\n",
    "                mpoint = random.randint(0,py-1)\n",
    "            \n",
    "                #将mpoint个基因进行单点随机变异，变为0或者1\n",
    "                if(population[i][mpoint] == 1):\n",
    "                    population[i][mpoint] = 0\n",
    "#                     print(i)\n",
    "                else:\n",
    "                    population[i][mpoint] = 1\n",
    "#                     print(i)\n",
    "\n",
    "    population = np.array(population)\n",
    "    \n",
    "    return population\n",
    "\n",
    "#     return population1"
   ]
  },
  {
   "cell_type": "markdown",
   "id": "9b16b585",
   "metadata": {
    "scrolled": true
   },
   "source": [
    "population = species_origin(population_size, chromosome_length)\n",
    "ofunction(population)"
   ]
  },
  {
   "cell_type": "markdown",
   "id": "40b7e0c6",
   "metadata": {},
   "source": [
    "np.mean(ofunction(population))"
   ]
  },
  {
   "cell_type": "markdown",
   "id": "7a6aa8ba",
   "metadata": {},
   "source": [
    "pm = 0.01\n",
    "ofunction(mutation(population,pm))"
   ]
  },
  {
   "cell_type": "markdown",
   "id": "7e18b6aa",
   "metadata": {},
   "source": [
    "np.mean(ofunction(mutation(population,pm)))"
   ]
  },
  {
   "cell_type": "markdown",
   "id": "bca827ad",
   "metadata": {},
   "source": [
    "##### "
   ]
  },
  {
   "cell_type": "markdown",
   "id": "85e86372",
   "metadata": {},
   "source": [
    "### 主体代码"
   ]
  },
  {
   "cell_type": "code",
   "execution_count": 640,
   "id": "20cb664f",
   "metadata": {},
   "outputs": [],
   "source": [
    "# # 将每一个染色体都转化成十进制 max_value为基因最大值，为了后面画图用\n",
    "# def b2d(b,max_value, chromosome_length):\n",
    "#     total = 0\n",
    "#     for i in range(len(b)):\n",
    "#         total = total+b[i]*math.pow(2,i)\n",
    "#     # 从第一位开始，每一位对2求幂，然后求和，得到十进制数？\n",
    "#     total = total*max_value/(math.pow(2,chromosome_length)-1)\n",
    "#     return total\n",
    " \n",
    "# 寻找最好的适应度和个体\n",
    "def best(population,fitness):\n",
    " \n",
    "    px = population.shape[0]\n",
    "    bestindividual = []\n",
    "    bestfitness = fitness[0]\n",
    " \n",
    "    for i in range(1,px):\n",
    "   # 循环找出最大的适应度，适应度最大的也就是最好的个体\n",
    "        if(fitness[i] < bestfitness):\n",
    " \n",
    "            bestfitness = fitness[i]\n",
    "            bestindividual = population[i]\n",
    " \n",
    "    return [bestindividual, bestfitness]"
   ]
  },
  {
   "cell_type": "code",
   "execution_count": 641,
   "id": "6605e5c0",
   "metadata": {},
   "outputs": [],
   "source": [
    "# species_origin(population_size, chromosome_length)\n",
    "# transformation(population)\n",
    "# ofunction(population)\n",
    "# FIT(obj_function)\n",
    "# selection(population)\n",
    "# crossover(population)\n",
    "# mutation(population,pm)"
   ]
  },
  {
   "cell_type": "code",
   "execution_count": 649,
   "id": "6985ee08",
   "metadata": {},
   "outputs": [
    {
     "data": {
      "text/plain": [
       "[[array([0, 1, 0, 1, 1, 1, 0, 0, 1, 0, 0, 1, 0, 0, 1]), 0.43181277451834316],\n",
       " [array([0, 1, 0, 1, 0, 1, 0, 0, 1, 1, 1, 1, 0, 0, 1]), 0.43147732067200617],\n",
       " [array([0, 1, 0, 1, 0, 1, 0, 0, 1, 1, 0, 1, 0, 0, 1]), 0.43147732067200617],\n",
       " [array([0, 1, 1, 1, 1, 1, 0, 0, 1, 1, 0, 1, 0, 0, 1]), 0.430522431169271],\n",
       " [array([0, 1, 0, 1, 1, 0, 0, 1, 1, 1, 0, 0, 0, 0, 1]), 0.4300826125886137],\n",
       " [array([0, 1, 0, 1, 1, 1, 0, 0, 1, 1, 0, 1, 0, 0, 1]), 0.4300826125886137],\n",
       " [array([0, 1, 0, 1, 1, 1, 0, 0, 1, 1, 0, 1, 0, 0, 1]), 0.43181089899822084],\n",
       " [array([0, 1, 0, 1, 0, 1, 0, 0, 1, 1, 0, 0, 0, 0, 1]), 0.43285768735014934],\n",
       " [array([0, 1, 0, 1, 1, 1, 0, 0, 1, 1, 0, 1, 0, 0, 1]), 0.4328703068175888]]"
      ]
     },
     "execution_count": 649,
     "metadata": {},
     "output_type": "execute_result"
    }
   ],
   "source": [
    "population_size = 200\n",
    "\n",
    "dig_theta = 5  # #theta (5个0-1变量表示theta——根据取值范围定的)\n",
    "M = 10  # #0-1 z\n",
    "chromosome_length = dig_theta + M  # (m=sum(z), theta[5], 0-1z[M])\n",
    "\n",
    "pc = 0.6\n",
    "pm = 0.1\n",
    " \n",
    "results = []\n",
    "Fitness = []\n",
    "fitmean = []\n",
    " \n",
    "population = species_origin(population_size, chromosome_length)\n",
    "# 生成一个初始的种群\n",
    " \n",
    "for i in range(10):  # 注意这里是迭代population_size次\n",
    "    \n",
    "    function0 = ofunction(population)\n",
    "    \n",
    "#     Fitness = FIT(function0)\n",
    "    \n",
    "#     best_individual,best_fitness = best(population, Fitness)\n",
    "    \n",
    "    results.append(best(population, function0))\n",
    "    # 将最好的个体和最好的适应度保存，并将最好的个体转成十进制\n",
    "    \n",
    "    selection(population) # 选择\n",
    "    crossover(population)  # 交配\n",
    "    mutation(population, pm)  # 变异\n",
    "\n",
    "results_f = results[1:]\n",
    "\n",
    "# # results.sort()\n",
    "# X=[]\n",
    "# Y=[]\n",
    "\n",
    "# for i in range(population_size):#500轮的结果\n",
    "#     X.append(results_f[i][1])\n",
    "#     Y.append(results_f[i][0])\n",
    "\n",
    "# print(X,Y)\n",
    "\n",
    "results_f"
   ]
  },
  {
   "cell_type": "code",
   "execution_count": 663,
   "id": "2a97a811",
   "metadata": {},
   "outputs": [
    {
     "data": {
      "text/plain": [
       "array([0, 1, 0, 1, 1, 1, 0, 0, 1, 0, 0, 1, 0, 0, 1])"
      ]
     },
     "execution_count": 663,
     "metadata": {},
     "output_type": "execute_result"
    }
   ],
   "source": [
    "results_f[0][0]"
   ]
  },
  {
   "cell_type": "code",
   "execution_count": 667,
   "id": "afba04a3",
   "metadata": {},
   "outputs": [
    {
     "data": {
      "text/plain": [
       "[array([0, 1, 0, 1, 1, 1, 0, 0, 1, 0, 0, 1, 0, 0, 1]),\n",
       " array([0, 1, 0, 1, 0, 1, 0, 0, 1, 1, 1, 1, 0, 0, 1]),\n",
       " array([0, 1, 0, 1, 0, 1, 0, 0, 1, 1, 0, 1, 0, 0, 1]),\n",
       " array([0, 1, 1, 1, 1, 1, 0, 0, 1, 1, 0, 1, 0, 0, 1]),\n",
       " array([0, 1, 0, 1, 1, 0, 0, 1, 1, 1, 0, 0, 0, 0, 1]),\n",
       " array([0, 1, 0, 1, 1, 1, 0, 0, 1, 1, 0, 1, 0, 0, 1]),\n",
       " array([0, 1, 0, 1, 1, 1, 0, 0, 1, 1, 0, 1, 0, 0, 1]),\n",
       " array([0, 1, 0, 1, 0, 1, 0, 0, 1, 1, 0, 0, 0, 0, 1]),\n",
       " array([0, 1, 0, 1, 1, 1, 0, 0, 1, 1, 0, 1, 0, 0, 1])]"
      ]
     },
     "execution_count": 667,
     "metadata": {},
     "output_type": "execute_result"
    }
   ],
   "source": [
    "X=[]\n",
    "for i in range(9):\n",
    "    X.append(results_f[i][0])\n",
    "    \n",
    "X"
   ]
  },
  {
   "cell_type": "code",
   "execution_count": 669,
   "id": "953a9fc6",
   "metadata": {},
   "outputs": [
    {
     "data": {
      "text/plain": [
       "array([[ 5., 18.,  0.,  1.,  0.,  1.,  1.,  1.,  0.,  0.,  1.,  0.],\n",
       "       [ 5., 19.,  0.,  1.,  0.,  1.,  0.,  1.,  0.,  0.,  1.,  1.],\n",
       "       [ 5., 18.,  0.,  1.,  0.,  1.,  0.,  1.,  0.,  0.,  1.,  1.],\n",
       "       [ 7., 18.,  0.,  1.,  1.,  1.,  1.,  1.,  0.,  0.,  1.,  1.],\n",
       "       [ 6., 16.,  0.,  1.,  0.,  1.,  1.,  0.,  0.,  1.,  1.,  1.],\n",
       "       [ 6., 18.,  0.,  1.,  0.,  1.,  1.,  1.,  0.,  0.,  1.,  1.],\n",
       "       [ 6., 18.,  0.,  1.,  0.,  1.,  1.,  1.,  0.,  0.,  1.,  1.],\n",
       "       [ 5., 16.,  0.,  1.,  0.,  1.,  0.,  1.,  0.,  0.,  1.,  1.],\n",
       "       [ 6., 18.,  0.,  1.,  0.,  1.,  1.,  1.,  0.,  0.,  1.,  1.]])"
      ]
     },
     "execution_count": 669,
     "metadata": {},
     "output_type": "execute_result"
    }
   ],
   "source": [
    "transformation(np.array(X))"
   ]
  },
  {
   "cell_type": "code",
   "execution_count": null,
   "id": "9ca6eaf6",
   "metadata": {},
   "outputs": [],
   "source": []
  }
 ],
 "metadata": {
  "kernelspec": {
   "display_name": "Python 3 (ipykernel)",
   "language": "python",
   "name": "python3"
  },
  "language_info": {
   "codemirror_mode": {
    "name": "ipython",
    "version": 3
   },
   "file_extension": ".py",
   "mimetype": "text/x-python",
   "name": "python",
   "nbconvert_exporter": "python",
   "pygments_lexer": "ipython3",
   "version": "3.9.10"
  }
 },
 "nbformat": 4,
 "nbformat_minor": 5
}
