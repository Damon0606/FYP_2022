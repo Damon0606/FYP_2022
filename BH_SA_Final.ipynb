{
 "cells": [
  {
   "cell_type": "code",
   "execution_count": 2,
   "id": "83364c61",
   "metadata": {},
   "outputs": [],
   "source": [
    "import numpy as np\n",
    "import random"
   ]
  },
  {
   "cell_type": "markdown",
   "id": "ccd8a11c",
   "metadata": {},
   "source": [
    "##### "
   ]
  },
  {
   "cell_type": "code",
   "execution_count": 31,
   "id": "4a236a86",
   "metadata": {},
   "outputs": [],
   "source": [
    "# 常数\n",
    "\n",
    "v = 2  # lower limit of m\n",
    "M = 10  # upper limit of m\n",
    "t = 2  # lower limit of theta\n",
    "N = 20  # upper limit of theta\n",
    "\n",
    "rd = 1.2*1024#kb/s  # the downlink transmission rate\n",
    "ru = 1.3*1024#kb/s  # the uplink transmission rate\n",
    "O = 0.5*1024#kb  # the verification feedback size\n",
    "B = 1#kb  # the transaction size\n",
    "psi = 0.5  # a predefined parameter that can be defined leveraging the statistics on previous processes of block verification\n",
    "\n",
    "beta1 = 1/3\n",
    "beta2 = 1/3\n",
    "beta3 = 1/3"
   ]
  },
  {
   "cell_type": "code",
   "execution_count": 32,
   "id": "2d64584c",
   "metadata": {},
   "outputs": [],
   "source": [
    "# simulate的\n",
    "\n",
    "Xi = np.random.uniform(10**3*8/128, 10**6*8/128, M)  # the amount of available computational resources at verifier i \n",
    "\n",
    "K = np.random.uniform(5, 500)  # the required computational resources for block verification task\n",
    "kappa = np.random.uniform(1, 10)  # a coefficient given by the system\n",
    "q = np.random.uniform(2, 10)  # an indicator factor representing the network scale\n",
    "rho = np.random.normal(100, 5, M)  # the payment from verifier i to a cloud service provider\n",
    "ci = np.multiply(rho, Xi)  #  the computational cost of verifier i"
   ]
  },
  {
   "cell_type": "code",
   "execution_count": 33,
   "id": "48ef9a6d",
   "metadata": {},
   "outputs": [],
   "source": [
    "population_size_sa = 1  # 总样本数\n",
    "\n",
    "T = 20\n",
    "Tmin = 10\n",
    "KK = 0.9\n",
    "\n",
    "L = 2  # 马可夫链长度 # 在温度为t情况下的迭代次数\n",
    "\n",
    "P = 0  # Metropolis过程中总接受点\n",
    "time = 0  # time\n",
    "\n",
    "trace = []"
   ]
  },
  {
   "cell_type": "markdown",
   "id": "a41eb37e",
   "metadata": {},
   "source": [
    "#### 初始化"
   ]
  },
  {
   "cell_type": "code",
   "execution_count": 34,
   "id": "2d383918",
   "metadata": {},
   "outputs": [],
   "source": [
    "def species_origin_sa(population_size,v,M,t,N):\n",
    "    \n",
    "    population = []\n",
    "    temporary = []\n",
    "    \n",
    "    for i in range(population_size):\n",
    "        t3 = np.random.randint(0,2,M)\n",
    "        t1 = sum(t3)\n",
    "        t2 = random.randint(t,N)\n",
    "        temporary = [t1,t2,t3]\n",
    "        population.append(temporary)\n",
    "        \n",
    "#     for j in range(population_size):\n",
    "#         while sum(population[j][2]) == 0:\n",
    "#             population[j][2] = np.random.randint(0,2,M)\n",
    "            \n",
    "#     population_pso(population)\n",
    "    \n",
    "        \n",
    "    return population"
   ]
  },
  {
   "cell_type": "code",
   "execution_count": 35,
   "id": "ecd627c9",
   "metadata": {},
   "outputs": [],
   "source": [
    "def population_sa(population0,M):\n",
    "\n",
    "    size = np.shape(population0)[0]\n",
    "    \n",
    "    population = np.zeros((size, 2+M))\n",
    "    \n",
    "    for i in range(size):\n",
    "        \n",
    "        for j in range (2+M):\n",
    "            \n",
    "            if j <= 1:\n",
    "                population[i][j] = population0[i][j]\n",
    "            else:\n",
    "                population[i][j] = population0[i][2][j-2]\n",
    "                \n",
    "    return population"
   ]
  },
  {
   "cell_type": "code",
   "execution_count": 36,
   "id": "509a06b7",
   "metadata": {},
   "outputs": [],
   "source": [
    "def origin(population_size,v,M,t,N):\n",
    "    return population_sa(species_origin_sa(population_size,v,M,t,N),M).reshape(-1)"
   ]
  },
  {
   "cell_type": "markdown",
   "id": "48d9ebe8",
   "metadata": {},
   "source": [
    "origin(population_size_sa,v,M,t,N)"
   ]
  },
  {
   "cell_type": "markdown",
   "id": "f8f77945",
   "metadata": {},
   "source": [
    "##### "
   ]
  },
  {
   "cell_type": "markdown",
   "id": "e5661ab7",
   "metadata": {},
   "source": [
    "#### 目标函数"
   ]
  },
  {
   "cell_type": "code",
   "execution_count": 30,
   "id": "e8550381",
   "metadata": {},
   "outputs": [],
   "source": [
    "# # 常数\n",
    "\n",
    "# v = 2  # lower limit of m\n",
    "# M = 10  # upper limit of m\n",
    "# t = 2  # lower limit of theta\n",
    "# N = 20  # upper limit of theta\n",
    "\n",
    "# rd = 1.2*1024#kb/s  # the downlink transmission rate\n",
    "# ru = 1.3*1024#kb/s  # the uplink transmission rate\n",
    "# O = 0.5*1024#kb  # the verification feedback size\n",
    "# B = 1#kb  # the transaction size\n",
    "# psi = 0.5  # a predefined parameter that can be defined leveraging the statistics on previous processes of block verification\n",
    "\n",
    "# beta1 = 1/3\n",
    "# beta2 = 1/3\n",
    "# beta3 = 1/3"
   ]
  },
  {
   "cell_type": "code",
   "execution_count": 24,
   "id": "87bab429",
   "metadata": {},
   "outputs": [],
   "source": [
    "# # simulate的\n",
    "\n",
    "# Xi = np.random.uniform(10**3*8/128, 10**6*8/128, M)  # the amount of available computational resources at verifier i \n",
    "\n",
    "# K = np.random.uniform(5, 500)  # the required computational resources for block verification task\n",
    "# kappa = np.random.uniform(1, 10)  # a coefficient given by the system\n",
    "# q = np.random.uniform(2, 10)  # an indicator factor representing the network scale\n",
    "# rho = np.random.normal(100, 5, M)  # the payment from verifier i to a cloud service provider\n",
    "# ci = np.multiply(rho, Xi)  #  the computational cost of verifier i"
   ]
  },
  {
   "cell_type": "code",
   "execution_count": 39,
   "id": "37ed4861",
   "metadata": {},
   "outputs": [],
   "source": [
    "# # beta1,2,3: weights;\n",
    "# # m: the number of the selected verifiiers\n",
    "# # theta: the number of transactions per block\n",
    "# # z: 0-1 variable\n",
    "\n",
    "# def denominator0(z,Xi,M):  # 解决加入0-1变量后分母为0的情况\n",
    "    \n",
    "#     maxi = []\n",
    "#     tem = 0\n",
    "    \n",
    "#     for i in range(M):\n",
    "        \n",
    "#         if z[i] == 0:\n",
    "#             tem = 0\n",
    "#             maxi.append(tem)\n",
    "#         else:\n",
    "#             tem = K*(1/(z[i]*Xi[i]))\n",
    "#             maxi.append(tem)\n",
    "            \n",
    "#     return np.max(maxi)\n",
    "        \n",
    "\n",
    "# def obj_fun_SA(beta1,beta2,beta3,population,M,K,kappa,q,rho,ci,Xi):\n",
    "    \n",
    "#     # 常数\n",
    "\n",
    "#     v = 2  # lower limit of m\n",
    "#     M = 10  # upper limit of m\n",
    "#     t = 2  # lower limit of theta\n",
    "#     N = 20  # upper limit of theta\n",
    "\n",
    "#     rd = 1.2*1024#kb/s  # the downlink transmission rate\n",
    "#     ru = 1.3*1024#kb/s  # the uplink transmission rate\n",
    "#     O = 0.5*1024#kb  # the verification feedback size\n",
    "#     B = 1#kb  # the transaction size\n",
    "#     psi = 0.5  # a predefined parameter that can be defined leveraging the statistics on previous processes of block verification\n",
    "    \n",
    "#     m = population[0]\n",
    "#     theta = population[1]\n",
    "#     z = population[2:2+M]\n",
    "    \n",
    "#     ci_sel = z*ci\n",
    "    \n",
    "#     L = (theta*B/rd)+denominator0(z,Xi,M)+(psi*theta*B*m)+(O/ru)  # Latency\n",
    "#     S = kappa*m**q  # Secuity\n",
    "#     C = np.sum(ci_sel)/theta  # Cost\n",
    "    \n",
    "#     L_m = (N*B/rd)+denominator0(z,Xi,M)+(psi*N*B*M)+(O/ru)\n",
    "#     S_m = kappa*M**q\n",
    "#     C_m = ci_sel.sum()/t\n",
    "    \n",
    "#     u = beta1*(L/L_m)+beta2*((S_m-S)/S_m)+beta3*(C/C_m)\n",
    "#     return u"
   ]
  },
  {
   "cell_type": "code",
   "execution_count": 65,
   "id": "553dde61",
   "metadata": {},
   "outputs": [],
   "source": [
    "# beta1,2,3: weights;\n",
    "# m: the number of the selected verifiiers\n",
    "# theta: the number of transactions per block\n",
    "# z: 0-1 variable\n",
    "\n",
    "def denominator0(z,Xi):  # 解决加入0-1变量后分母为0的情况\n",
    "    \n",
    "    maxi = []\n",
    "    tem = 0\n",
    "    \n",
    "    for i in range(M):\n",
    "        \n",
    "        if z[i] == 0:\n",
    "            tem = 0\n",
    "            maxi.append(tem)\n",
    "        else:\n",
    "            tem = K*(1/(z[i]*Xi[i]))\n",
    "            maxi.append(tem)\n",
    "            \n",
    "    return np.max(maxi)\n",
    "        \n",
    "\n",
    "def obj_fun_SA(beta1,beta2,beta3,population):\n",
    "    \n",
    "    \n",
    "    m = population[0]\n",
    "    theta = population[1]\n",
    "    z = population[2:2+M]\n",
    "    \n",
    "    ci_sel = z*ci\n",
    "    \n",
    "    L = (theta*B/rd)+denominator0(z,Xi)+(psi*theta*B*m)+(O/ru)  # Latency\n",
    "    S = kappa*m**q  # Secuity\n",
    "    C = np.sum(ci_sel)/theta  # Cost\n",
    "    \n",
    "    L_m = (N*B/rd)+denominator0(z,Xi)+(psi*N*B*M)+(O/ru)\n",
    "    S_m = kappa*M**q\n",
    "    C_m = ci_sel.sum()/t\n",
    "    \n",
    "    u = beta1*(L/L_m)+beta2*((S_m-S)/S_m)+beta3*(C/C_m)\n",
    "    return u"
   ]
  },
  {
   "cell_type": "markdown",
   "id": "7f58f67e",
   "metadata": {},
   "source": [
    "obj_fun_SA(beta1,beta2,beta3,origin(population_size_sa,v,M,t,N),M,K,kappa,q,rho,ci,Xi)"
   ]
  },
  {
   "cell_type": "code",
   "execution_count": 66,
   "id": "1d7d19a1",
   "metadata": {},
   "outputs": [
    {
     "data": {
      "text/plain": [
       "0.37645573781349667"
      ]
     },
     "execution_count": 66,
     "metadata": {},
     "output_type": "execute_result"
    }
   ],
   "source": [
    "obj_fun_SA(beta1,beta2,beta3,origin(population_size_sa,v,M,t,N))"
   ]
  },
  {
   "cell_type": "markdown",
   "id": "90de50e4",
   "metadata": {},
   "source": [
    "##### "
   ]
  },
  {
   "cell_type": "markdown",
   "id": "cacce855",
   "metadata": {},
   "source": [
    "#### 降温过程"
   ]
  },
  {
   "cell_type": "markdown",
   "id": "84560ab6",
   "metadata": {},
   "source": [
    "##### 更新位置  有时间可以考虑把当前时间T考虑进位置更新中"
   ]
  },
  {
   "cell_type": "code",
   "execution_count": 9,
   "id": "24c4cc81",
   "metadata": {},
   "outputs": [],
   "source": [
    "def zero_one():\n",
    "    p = random.random()\n",
    "    if p < 0.5:\n",
    "        u = 1.0\n",
    "    else:\n",
    "        u = -1.0\n",
    "    return u"
   ]
  },
  {
   "cell_type": "code",
   "execution_count": 10,
   "id": "ed248ad3",
   "metadata": {},
   "outputs": [],
   "source": [
    "# def X_velocity(X,v,M,t,N,T):\n",
    "    \n",
    "#     XV1 = X\n",
    "    \n",
    "#     u1 = zero_one()\n",
    "    \n",
    "#     XV1[1] = X[1] + u1\n",
    "    \n",
    "    \n",
    "#     while XV1[1] < t or XV1[1] > N:\n",
    "#         XV1[1] = X[1]\n",
    "#         u1 = zero_one()  # theta\n",
    "#         XV1[1] = X[1] + u1\n",
    "    \n",
    "#     XV2 = XV1\n",
    "    \n",
    "#     u2 = np.random.randint(0,2)  # [2]-[11]\n",
    "#     i = np.random.randint(2,2+M)  # [2]-[11]\n",
    "    \n",
    "    \n",
    "#     XV2[i] = u2\n",
    "# #     count = 0\n",
    "#     while sum(XV2[2:2+M]) < v or sum(XV2[2:2+M]) > M:\n",
    "# #         count+=1\n",
    "#         XV2 = XV1\n",
    "#         u2 = np.random.randint(0,2)  # [2]-[11]\n",
    "#         i = np.random.randint(2,2+M)  # [2]-[11]\n",
    "# #         if (sum(XV[2:2+M]) < v or sum(XV[2:2+M]) > M) and count>10:\n",
    "# #             print(XV,u2,i)\n",
    "#         XV2[i] = u2\n",
    "        \n",
    "#     XV2[0] = sum(XV2[2:2+M])\n",
    "    \n",
    "#     return XV2"
   ]
  },
  {
   "cell_type": "code",
   "execution_count": 67,
   "id": "858a3dd0",
   "metadata": {},
   "outputs": [],
   "source": [
    "def X_velocity(X,T):\n",
    "    \n",
    "    XV1 = X\n",
    "    \n",
    "    u1 = zero_one()\n",
    "    \n",
    "    XV1[1] = X[1] + u1\n",
    "    \n",
    "    \n",
    "    while XV1[1] < t or XV1[1] > N:\n",
    "        XV1[1] = X[1]\n",
    "        u1 = zero_one()  # theta\n",
    "        XV1[1] = X[1] + u1\n",
    "    \n",
    "    XV2 = XV1\n",
    "    \n",
    "    u2 = np.random.randint(0,2)  # [2]-[11]\n",
    "    i = np.random.randint(2,2+M)  # [2]-[11]\n",
    "    \n",
    "    \n",
    "    XV2[i] = u2\n",
    "#     count = 0\n",
    "    while sum(XV2[2:2+M]) < v or sum(XV2[2:2+M]) > M:\n",
    "#         count+=1\n",
    "        XV2 = XV1\n",
    "        u2 = np.random.randint(0,2)  # [2]-[11]\n",
    "        i = np.random.randint(2,2+M)  # [2]-[11]\n",
    "#         if (sum(XV[2:2+M]) < v or sum(XV[2:2+M]) > M) and count>10:\n",
    "#             print(XV,u2,i)\n",
    "        XV2[i] = u2\n",
    "        \n",
    "    XV2[0] = sum(XV2[2:2+M])\n",
    "    \n",
    "    return XV2"
   ]
  },
  {
   "cell_type": "markdown",
   "id": "bcdb5efa",
   "metadata": {},
   "source": [
    "X_velocity(origin(population_size_sa,v,M,t,N),v,M,t,N,T)"
   ]
  },
  {
   "cell_type": "code",
   "execution_count": 68,
   "id": "3cd08502",
   "metadata": {},
   "outputs": [
    {
     "data": {
      "text/plain": [
       "array([ 2., 15.,  1.,  0.,  0.,  0.,  1.,  0.,  0.,  0.,  0.,  0.])"
      ]
     },
     "execution_count": 68,
     "metadata": {},
     "output_type": "execute_result"
    }
   ],
   "source": [
    "X_velocity(origin(population_size_sa,v,M,t,N),T)"
   ]
  },
  {
   "cell_type": "markdown",
   "id": "1f129f01",
   "metadata": {},
   "source": [
    "###### Test Position Update function"
   ]
  },
  {
   "cell_type": "markdown",
   "id": "49a86519",
   "metadata": {},
   "source": [
    "np.random.seed(0)\n",
    "\n",
    "T = 0\n",
    "k = 0\n",
    "X_Pre = origin(1,v,M,t,N)\n",
    "\n",
    "for i in range(100):\n",
    "    print(X_Pre)\n",
    "    X_Pre = X_velocity(X_Pre,v,M,t,N,T)\n",
    "    k = i\n",
    "\n",
    "print(k)"
   ]
  },
  {
   "cell_type": "markdown",
   "id": "2fbf0e0c",
   "metadata": {},
   "source": [
    "#### 主体代码"
   ]
  },
  {
   "cell_type": "code",
   "execution_count": 57,
   "id": "7eb934bb",
   "metadata": {},
   "outputs": [],
   "source": [
    "# origin(population_size,v,M,t,N)\n",
    "# obj_fun_SA(beta1,beta2,beta3,population,M,K,kappa,q,rho,ci,Xi)\n",
    "# X_velocity(X,v,M,t,N,T)"
   ]
  },
  {
   "cell_type": "code",
   "execution_count": 60,
   "id": "63da2c2e",
   "metadata": {},
   "outputs": [],
   "source": [
    "def sa(beta1,beta2,beta3,v,M,t,N,population_size_sa,T,Tmin,KK,L,P,time,trace,K,kappa,q,rho,ci,Xi):\n",
    "    \n",
    "    X_Pre = origin(population_size_sa,v,M,t,N)\n",
    "    \n",
    "    # 对于不同温度的外循环\n",
    "    while T >= Tmin:\n",
    "\n",
    "        # 对于每个温度下的内循环\n",
    "        for i in range (L):  \n",
    "            \n",
    "            print(i)\n",
    "\n",
    "            y_Best = obj_fun_SA(beta1,beta2,beta3,X_Pre,M,K,kappa,q,rho,ci,Xi)\n",
    "\n",
    "            # 在此点附近随机选下一点\n",
    "            X_next = X_velocity(X_Pre,v,M,t,N,T)\n",
    "\n",
    "\n",
    "            y_New = obj_fun_SA(beta1,beta2,beta3,X_next,M,K,kappa,q,rho,ci,Xi)\n",
    "            \n",
    "            print(y_Best,y_New)\n",
    "\n",
    "            if y_New < y_Best:  # 更新后的解比前一个好\n",
    "                X_Pre = X_next  # 更新当前解\n",
    "                P = P + 1\n",
    "\n",
    "            else:  # Metropolis过程 更新后的不如前一个好——要根据概率决定是否接受较差解\n",
    "                p1 = np.exp(-1 * (y_New - y_Best) / T)\n",
    "                # 接受较差的解\n",
    "                if p1 > np.random.random():  # 满足概率限制则接受\n",
    "                    X_Pre = X_next  # 更新当前解\n",
    "                    P = P + 1\n",
    "                else:\n",
    "                    continue\n",
    "\n",
    "            trace.append(obj_fun_SA(beta1,beta2,beta3,X_Pre,M,K,kappa,q,rho,ci,Xi))\n",
    "            print(trace)\n",
    "\n",
    "        time += 1\n",
    "\n",
    "        T = K*T\n",
    "\n",
    "    print('optimal solution\\n', X_Pre)\n",
    "    print('optimal value of the objective function\\n', y_Best)\n",
    "#     print(time,P)"
   ]
  },
  {
   "cell_type": "code",
   "execution_count": 18,
   "id": "4a119fe8",
   "metadata": {},
   "outputs": [],
   "source": [
    "population_size_sa = 1  # 总样本数\n",
    "\n",
    "T = 20\n",
    "Tmin = 10\n",
    "KK = 0.9\n",
    "\n",
    "L = 2  # 马可夫链长度 # 在温度为t情况下的迭代次数\n",
    "\n",
    "P = 0  # Metropolis过程中总接受点\n",
    "time = 0  # time\n",
    "\n",
    "trace = []"
   ]
  },
  {
   "cell_type": "code",
   "execution_count": 61,
   "id": "72fa4387",
   "metadata": {
    "scrolled": true
   },
   "outputs": [
    {
     "name": "stderr",
     "output_type": "stream",
     "text": [
      "/Users/l/miniforge3/lib/python3.9/site-packages/numpy/core/fromnumeric.py:1970: VisibleDeprecationWarning: Creating an ndarray from ragged nested sequences (which is a list-or-tuple of lists-or-tuples-or ndarrays with different lengths or shapes) is deprecated. If you meant to do this, you must specify 'dtype=object' when creating the ndarray.\n",
      "  result = asarray(a).shape\n",
      "IOPub data rate exceeded.\n",
      "The notebook server will temporarily stop sending output\n",
      "to the client in order to avoid crashing it.\n",
      "To change this limit, set the config variable\n",
      "`--NotebookApp.iopub_data_rate_limit`.\n",
      "\n",
      "Current values:\n",
      "NotebookApp.iopub_data_rate_limit=1000000.0 (bytes/sec)\n",
      "NotebookApp.rate_limit_window=3.0 (secs)\n",
      "\n"
     ]
    },
    {
     "ename": "KeyboardInterrupt",
     "evalue": "",
     "output_type": "error",
     "traceback": [
      "\u001b[0;31m---------------------------------------------------------------------------\u001b[0m",
      "\u001b[0;31mKeyboardInterrupt\u001b[0m                         Traceback (most recent call last)",
      "Input \u001b[0;32mIn [61]\u001b[0m, in \u001b[0;36m<cell line: 1>\u001b[0;34m()\u001b[0m\n\u001b[0;32m----> 1\u001b[0m \u001b[43msa\u001b[49m\u001b[43m(\u001b[49m\u001b[43mbeta1\u001b[49m\u001b[43m,\u001b[49m\u001b[43mbeta2\u001b[49m\u001b[43m,\u001b[49m\u001b[43mbeta3\u001b[49m\u001b[43m,\u001b[49m\u001b[43mv\u001b[49m\u001b[43m,\u001b[49m\u001b[43mM\u001b[49m\u001b[43m,\u001b[49m\u001b[43mt\u001b[49m\u001b[43m,\u001b[49m\u001b[43mN\u001b[49m\u001b[43m,\u001b[49m\u001b[43mpopulation_size_sa\u001b[49m\u001b[43m,\u001b[49m\u001b[43mT\u001b[49m\u001b[43m,\u001b[49m\u001b[43mTmin\u001b[49m\u001b[43m,\u001b[49m\u001b[43mKK\u001b[49m\u001b[43m,\u001b[49m\u001b[43mL\u001b[49m\u001b[43m,\u001b[49m\u001b[43mP\u001b[49m\u001b[43m,\u001b[49m\u001b[43mtime\u001b[49m\u001b[43m,\u001b[49m\u001b[43mtrace\u001b[49m\u001b[43m,\u001b[49m\u001b[43mK\u001b[49m\u001b[43m,\u001b[49m\u001b[43mkappa\u001b[49m\u001b[43m,\u001b[49m\u001b[43mq\u001b[49m\u001b[43m,\u001b[49m\u001b[43mrho\u001b[49m\u001b[43m,\u001b[49m\u001b[43mci\u001b[49m\u001b[43m,\u001b[49m\u001b[43mXi\u001b[49m\u001b[43m)\u001b[49m\n",
      "Input \u001b[0;32mIn [60]\u001b[0m, in \u001b[0;36msa\u001b[0;34m(beta1, beta2, beta3, v, M, t, N, population_size_sa, T, Tmin, KK, L, P, time, trace, K, kappa, q, rho, ci, Xi)\u001b[0m\n\u001b[1;32m     34\u001b[0m             \u001b[38;5;28;01mcontinue\u001b[39;00m\n\u001b[1;32m     36\u001b[0m     trace\u001b[38;5;241m.\u001b[39mappend(obj_fun_SA(beta1,beta2,beta3,X_Pre,M,K,kappa,q,rho,ci,Xi))\n\u001b[0;32m---> 37\u001b[0m     \u001b[38;5;28;43mprint\u001b[39;49m\u001b[43m(\u001b[49m\u001b[43mtrace\u001b[49m\u001b[43m)\u001b[49m\n\u001b[1;32m     39\u001b[0m time \u001b[38;5;241m+\u001b[39m\u001b[38;5;241m=\u001b[39m \u001b[38;5;241m1\u001b[39m\n\u001b[1;32m     41\u001b[0m T \u001b[38;5;241m=\u001b[39m K\u001b[38;5;241m*\u001b[39mT\n",
      "File \u001b[0;32m~/miniforge3/lib/python3.9/site-packages/ipykernel/iostream.py:535\u001b[0m, in \u001b[0;36mOutStream.write\u001b[0;34m(self, string)\u001b[0m\n\u001b[1;32m    525\u001b[0m \u001b[38;5;28;01mdef\u001b[39;00m \u001b[38;5;21mwrite\u001b[39m(\u001b[38;5;28mself\u001b[39m, string: \u001b[38;5;28mstr\u001b[39m) \u001b[38;5;241m-\u001b[39m\u001b[38;5;241m>\u001b[39m Optional[\u001b[38;5;28mint\u001b[39m]:  \u001b[38;5;66;03m# type:ignore[override]\u001b[39;00m\n\u001b[1;32m    526\u001b[0m     \u001b[38;5;124;03m\"\"\"Write to current stream after encoding if necessary\u001b[39;00m\n\u001b[1;32m    527\u001b[0m \n\u001b[1;32m    528\u001b[0m \u001b[38;5;124;03m    Returns\u001b[39;00m\n\u001b[0;32m   (...)\u001b[0m\n\u001b[1;32m    532\u001b[0m \n\u001b[1;32m    533\u001b[0m \u001b[38;5;124;03m    \"\"\"\u001b[39;00m\n\u001b[0;32m--> 535\u001b[0m     \u001b[38;5;28;01mif\u001b[39;00m \u001b[38;5;129;01mnot\u001b[39;00m \u001b[38;5;28;43misinstance\u001b[39;49m(string, \u001b[38;5;28mstr\u001b[39m):\n\u001b[1;32m    536\u001b[0m         \u001b[38;5;28;01mraise\u001b[39;00m \u001b[38;5;167;01mTypeError\u001b[39;00m(\u001b[38;5;124mf\u001b[39m\u001b[38;5;124m\"\u001b[39m\u001b[38;5;124mwrite() argument must be str, not \u001b[39m\u001b[38;5;132;01m{\u001b[39;00m\u001b[38;5;28mtype\u001b[39m(string)\u001b[38;5;132;01m}\u001b[39;00m\u001b[38;5;124m\"\u001b[39m)\n\u001b[1;32m    538\u001b[0m     \u001b[38;5;28;01mif\u001b[39;00m \u001b[38;5;28mself\u001b[39m\u001b[38;5;241m.\u001b[39mecho \u001b[38;5;129;01mis\u001b[39;00m \u001b[38;5;129;01mnot\u001b[39;00m \u001b[38;5;28;01mNone\u001b[39;00m:\n",
      "\u001b[0;31mKeyboardInterrupt\u001b[0m: "
     ]
    }
   ],
   "source": [
    "sa(beta1,beta2,beta3,v,M,t,N,population_size_sa,T,Tmin,KK,L,P,time,trace,K,kappa,q,rho,ci,Xi)"
   ]
  },
  {
   "cell_type": "code",
   "execution_count": null,
   "id": "576d66f6",
   "metadata": {},
   "outputs": [],
   "source": [
    "# origin(population_size,v,M,t,N)\n",
    "# obj_fun_SA(beta1,beta2,beta3,population)\n",
    "# X_velocity(X,T)"
   ]
  },
  {
   "cell_type": "code",
   "execution_count": 74,
   "id": "57e2ced0",
   "metadata": {},
   "outputs": [
    {
     "name": "stdout",
     "output_type": "stream",
     "text": [
      "[8. 7. 0. 1. 1. 0. 1. 1. 1. 1. 1. 1.]\n",
      "最小值点\n",
      " [5. 4. 0. 1. 0. 0. 0. 1. 0. 1. 1. 1.]\n",
      "最小值\n",
      " 0.45748479383850693\n",
      "38 7598\n"
     ]
    }
   ],
   "source": [
    "np.random.seed(0)\n",
    "\n",
    "beta1 = 1/3\n",
    "beta2 = 1/3\n",
    "beta3 = 1/3\n",
    "\n",
    "v = 2  # lower limit of m\n",
    "M = 10  # upper limit of m\n",
    "t = 2  # lower limit of theta\n",
    "N = 20  # upper limit of theta\n",
    "\n",
    "population_size_sa = 1  # 总样本数\n",
    "\n",
    "T = 500\n",
    "Tmin = 10\n",
    "KK = 0.9\n",
    "\n",
    "L = 200  # 马可夫链长度 # 在温度为t情况下的迭代次数\n",
    "\n",
    "P = 0  # Metropolis过程中总接受点\n",
    "time = 0  # time\n",
    "\n",
    "X_Pre = origin(population_size_sa,v,M,t,N)\n",
    "print(X_Pre)\n",
    "\n",
    "trace = []\n",
    "\n",
    "# 对于不同温度的外循环\n",
    "while T >= Tmin:\n",
    "    \n",
    "    # 对于每个温度下的内循环\n",
    "    for i in range (L):  \n",
    "        \n",
    "#         print(i)\n",
    "        \n",
    "        y_Best = obj_fun_SA(beta1,beta2,beta3,X_Pre)\n",
    "        \n",
    "        # 在此点附近随机选下一点\n",
    "        X_next = X_velocity(X_Pre,T)\n",
    "        \n",
    "        \n",
    "        y_New = obj_fun_SA(beta1,beta2,beta3,X_next)\n",
    "        \n",
    "        if y_New < y_Best:  # 更新后的解比前一个好\n",
    "            X_Pre = X_next  # 更新当前解\n",
    "            P = P + 1\n",
    "            \n",
    "        else:  # Metropolis过程 更新后的不如前一个好——要根据概率决定是否接受较差解\n",
    "            p1 = np.exp(-1 * (y_New - y_Best) / T)\n",
    "            # 接受较差的解\n",
    "            if p1 > np.random.random():  # 满足概率限制则接受\n",
    "                X_Pre = X_next  # 更新当前解\n",
    "                P = P + 1\n",
    "            else:\n",
    "                continue\n",
    "\n",
    "        trace.append(obj_fun_SA(beta1,beta2,beta3,X_Pre))\n",
    "#         print(trace)\n",
    "\n",
    "    time += 1\n",
    "\n",
    "    T = KK*T\n",
    "\n",
    "#     T = T/(1+time)  # 也可以用  降温(这个可以根据当前温度越低决定降温的速度越来越快)\n",
    "        \n",
    "print('最小值点\\n', X_Pre)\n",
    "print('最小值\\n', y_Best)\n",
    "print(time,P)"
   ]
  },
  {
   "cell_type": "markdown",
   "id": "8d3ecd64",
   "metadata": {},
   "source": [
    "##### Example 1"
   ]
  },
  {
   "cell_type": "code",
   "execution_count": null,
   "id": "613212d4",
   "metadata": {},
   "outputs": [],
   "source": [
    "# from __future__ import division\n",
    "# import numpy as np\n",
    "# import matplotlib.pyplot as plt\n",
    "# import math\n",
    "\n",
    "\n",
    "# # define aim function\n",
    "# def aimFunction(x):\n",
    "#     y = x ** 3 - 60 * x ** 2 - 4 * x + 6\n",
    "#     return y\n",
    "\n",
    "\n",
    "# x = [i / 10 for i in range(1000)]\n",
    "# y = [0 for i in range(1000)]\n",
    "# for i in range(1000):\n",
    "#     y[i] = aimFunction(x[i])\n",
    "\n",
    "# plt.plot(x, y)\n",
    "# T = 1000  # initiate temperature\n",
    "# Tmin = 10  # minimum value of terperature\n",
    "# x = np.random.uniform(low=0, high=100)  # initiate x\n",
    "# k = 50  # times of internal circulation\n",
    "# y = 0  # initiate result\n",
    "# t = 0  # time\n",
    "# while T >= Tmin:\n",
    "#     for i in range(k):\n",
    "#         # calculate y\n",
    "#         y = aimFunction(x)\n",
    "#         # generate a new x in the neighboorhood of x by transform function\n",
    "#         xNew = x + np.random.uniform(low=-0.055, high=0.055) * T\n",
    "#         if (0 <= xNew and xNew <= 100):\n",
    "#             yNew = aimFunction(xNew)\n",
    "#             if yNew - y < 0:\n",
    "#                 x = xNew\n",
    "#             else:\n",
    "#                 # metropolis principle\n",
    "#                 p = math.exp(-(yNew - y) / T)\n",
    "#                 r = np.random.uniform(low=0, high=1)\n",
    "#                 if r < p:\n",
    "#                     x = xNew\n",
    "#     t += 1\n",
    "#     print(t)\n",
    "#     T = 1000 / (1 + t)  #降温函数，也可使用T=0.9T\n",
    "\n",
    "# print(x, aimFunction(x))\n"
   ]
  },
  {
   "cell_type": "markdown",
   "id": "0a3d359c",
   "metadata": {},
   "source": [
    "##### Example 2"
   ]
  },
  {
   "cell_type": "code",
   "execution_count": null,
   "id": "34ac81b1",
   "metadata": {},
   "outputs": [],
   "source": [
    "# import numpy as np\n",
    "\n",
    "# # =================初始化参数===============\n",
    "# D = 10  # 变量维数\n",
    "# Xs = 20  # 上限\n",
    "# Xx = -20  # 下限\n",
    "# # ====冷却表参数====\n",
    "# L = 200  # 马可夫链长度 #在温度为t情况下的迭代次数\n",
    "# K = 0.95  # 衰减参数\n",
    "# S = 0.01  # 步长因子\n",
    "# T = 100  # 初始温度\n",
    "# YZ = 1e-7  # 容差\n",
    "# P = 0  # Metropolis过程中总接受点\n",
    "# # ====随机选点初值设定====\n",
    "# PreX = np.random.uniform(size=(D, 1)) * (Xs - Xx) + Xx\n",
    "# PreBestX = PreX  # t-1代的全局最优X\n",
    "# PreX = np.random.uniform(size=(D, 1)) * (Xs - Xx) + Xx\n",
    "# BestX = PreX  # t时刻的全局最优X\n",
    "\n",
    "# # ==============目标函数=============\n",
    "# def func1(x):\n",
    "#     return np.sum([i ** 2 for i in x])\n",
    "\n",
    "# # ====每迭代一次退火一次(降温), 直到满足迭代条件为止===\n",
    "# deta = np.abs(func1(BestX) - func1(PreBestX))  # 前后能量差\n",
    "\n",
    "# trace = []  # 记录\n",
    "# while (deta > YZ) and (T > 0.1):  # 如果能量差大于允许能量差 或者温度大于阈值\n",
    "#     T = K * T  # 降温\n",
    "\n",
    "#     # ===在当前温度T下迭代次数====\n",
    "#     for i in range(L):  #\n",
    "#         # ====在此点附近随机选下一点=====\n",
    "#         NextX = PreX + S * (np.random.uniform(size=(D, 1)) * (Xs - Xx) + Xx)\n",
    "#         # ===边界条件处理\n",
    "#         for ii in range(D):  # 遍历每一个维度\n",
    "#             while NextX[ii] > Xs or NextX[ii] < Xx:\n",
    "#                 NextX[ii] = PreX[ii] + S * (np.random.random() * (Xs - Xx) + Xx)\n",
    "\n",
    "#         # ===是否全局最优解 ===\n",
    "#         if (func1(BestX) > func1(NextX)):\n",
    "#             # 保留上一个最优解\n",
    "#             PreBestX = BestX\n",
    "#             # 此为新的最优解\n",
    "#             BestX = NextX\n",
    "\n",
    "#         # ====Metropolis过程====\n",
    "#         if (func1(PreX) - func1(NextX) > 0):  # 后一个比前一个好\n",
    "#             # 接受新解\n",
    "#             PreX = NextX\n",
    "#             P = P + 1\n",
    "#         else:\n",
    "#             changer = -1 * (func1(NextX) - func1(PreX)) / T\n",
    "#             p1 = np.exp(changer)\n",
    "#             # 接受较差的解\n",
    "#             if p1 > np.random.random():\n",
    "#                 PreX = NextX\n",
    "#                 P = P + 1\n",
    "#         trace.append(func1(BestX))\n",
    "#     deta = np.abs(func1(BestX) - func1(PreBestX))  # 修改前后能量差\n",
    "\n",
    "# print('最小值点\\n', BestX)\n",
    "# print('最小值\\n', func1(BestX))"
   ]
  }
 ],
 "metadata": {
  "kernelspec": {
   "display_name": "Python 3 (ipykernel)",
   "language": "python",
   "name": "python3"
  },
  "language_info": {
   "codemirror_mode": {
    "name": "ipython",
    "version": 3
   },
   "file_extension": ".py",
   "mimetype": "text/x-python",
   "name": "python",
   "nbconvert_exporter": "python",
   "pygments_lexer": "ipython3",
   "version": "3.9.10"
  }
 },
 "nbformat": 4,
 "nbformat_minor": 5
}
