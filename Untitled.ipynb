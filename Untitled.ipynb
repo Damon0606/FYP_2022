{
 "cells": [
  {
   "cell_type": "code",
   "execution_count": 15,
   "id": "9f938e12",
   "metadata": {},
   "outputs": [],
   "source": [
    "import numpy as np\n",
    "from mpl_toolkits.mplot3d import Axes3D\n",
    "import matplotlib.pyplot as plt\n",
    "import pulp\n",
    "import pandas as pd\n",
    "import random\n",
    "import math\n",
    "import matplotlib.pyplot as plt\n",
    "from gurobipy import *"
   ]
  },
  {
   "cell_type": "code",
   "execution_count": null,
   "id": "cd9b3a55",
   "metadata": {},
   "outputs": [],
   "source": [
    "np.random.seed(0)"
   ]
  },
  {
   "cell_type": "markdown",
   "id": "03bb6d4f",
   "metadata": {},
   "source": [
    "#### Input parameters"
   ]
  },
  {
   "cell_type": "code",
   "execution_count": 19,
   "id": "96d9ff51",
   "metadata": {},
   "outputs": [],
   "source": [
    "# 常数\n",
    "\n",
    "v = 2  # lower limit of m\n",
    "M = 10  # upper limit of m\n",
    "t = 2  # lower limit of theta\n",
    "N = 20  # upper limit of theta\n",
    "rd = 1.2*1024#kb/s  # the downlink transmission rate\n",
    "ru = 1.3*1024#kb/s  # the uplink transmission rate\n",
    "O = 0.5*1024#kb  # the verification feedback size\n",
    "B = 1#kb  # the transaction size\n",
    "psi = 0.5  # a predefined parameter that can be defined leveraging the statistics on previous processes of block verification"
   ]
  },
  {
   "cell_type": "markdown",
   "id": "f5cf56ec",
   "metadata": {},
   "source": [
    "#### Simulate other parameters"
   ]
  },
  {
   "cell_type": "code",
   "execution_count": 20,
   "id": "a8d9ce97",
   "metadata": {},
   "outputs": [],
   "source": [
    "# simulate的\n",
    "\n",
    "Xi = np.random.uniform(10**3*8/128, 10**6*8/128, M)  # the amount of available computational resources at verifier i \n",
    "\n",
    "K = np.random.uniform(5, 500)  # the required computational resources for block verification task\n",
    "kappa = np.random.uniform(1, 10)  # a coefficient given by the system\n",
    "q = np.random.uniform(2, 10)  # an indicator factor representing the network scale\n",
    "rho = np.random.normal(100, 5, M)  # the payment from verifier i to a cloud service provider\n",
    "ci = np.multiply(rho, Xi)  #  the computational cost of verifier i"
   ]
  },
  {
   "cell_type": "markdown",
   "id": "3c60e201",
   "metadata": {},
   "source": [
    "##### "
   ]
  },
  {
   "cell_type": "markdown",
   "id": "e51a23e2",
   "metadata": {},
   "source": [
    "##### "
   ]
  },
  {
   "cell_type": "markdown",
   "id": "05d7ece2",
   "metadata": {},
   "source": [
    "##### "
   ]
  },
  {
   "cell_type": "markdown",
   "id": "3810ba14",
   "metadata": {},
   "source": [
    "##### "
   ]
  },
  {
   "cell_type": "markdown",
   "id": "1f9c3074",
   "metadata": {},
   "source": [
    "### Exhaustive Method"
   ]
  },
  {
   "cell_type": "markdown",
   "id": "396dc802",
   "metadata": {},
   "source": [
    "#### Define the Objective Function"
   ]
  },
  {
   "cell_type": "code",
   "execution_count": 23,
   "id": "c2c72745",
   "metadata": {},
   "outputs": [],
   "source": [
    "# beta1,2,3: weights;\n",
    "# m: the number of the selected verifiiers\n",
    "# theta: the number of transactions per block\n",
    "def obj_fun(beta1,beta2,beta3,m,theta):\n",
    "    \n",
    "    L = (theta*B/rd)+np.max(K/Xi[0:v])+(psi*theta*B*m)+(O/ru)  # Latency\n",
    "    S = kappa*m**q  # Secuity\n",
    "    C = np.sum(ci[0:v])/theta  # Cost\n",
    "    \n",
    "    L_m = (N*B/rd)+np.max(K/Xi)+(psi*N*B*M)+(O/ru)\n",
    "    S_m = kappa*M**q\n",
    "    C_m = ci.sum()/t\n",
    "    \n",
    "    u = beta1*(L/L_m)+beta2*((S_m-S)/S_m)+beta3*(C/C_m)\n",
    "    return u"
   ]
  },
  {
   "cell_type": "markdown",
   "id": "2a9c753b",
   "metadata": {},
   "source": [
    "#### Algorithm"
   ]
  },
  {
   "cell_type": "markdown",
   "id": "ae71ce63",
   "metadata": {},
   "source": [
    "#### Method 1: 先处理theta"
   ]
  },
  {
   "cell_type": "code",
   "execution_count": 24,
   "id": "0246099e",
   "metadata": {},
   "outputs": [
    {
     "name": "stdout",
     "output_type": "stream",
     "text": [
      "[0.4685828]\n"
     ]
    }
   ],
   "source": [
    "U0 = []\n",
    "U = np.array(U0)\n",
    "m_value = np.array(v)\n",
    "theta_value = np.array(t)\n",
    "\n",
    "# initialise\n",
    "U = np.append(U,[obj_fun(1/3,1/3,1/3,v,t)])\n",
    "theta = 2\n",
    "m = 2\n",
    "print(U)"
   ]
  },
  {
   "cell_type": "code",
   "execution_count": 26,
   "id": "d9479ef1",
   "metadata": {},
   "outputs": [
    {
     "name": "stdout",
     "output_type": "stream",
     "text": [
      "2 9\n",
      "[0.4685828  0.42946774 0.41156929 0.40215748 0.39698899 0.39424525\n",
      " 0.39301699 0.39279904 0.42946774 0.41156929 0.40215748 0.39698899\n",
      " 0.39424525 0.39301699 0.39279904]\n",
      "[2 2 2 2 2 2 2 2 2 2 2 2 2 2 2]\n",
      "[2 3 4 5 6 7 8 9 3 4 5 6 7 8 9]\n"
     ]
    }
   ],
   "source": [
    "for j in range(t+1,N):\n",
    "    if  obj_fun(1/3,1/3,1/3,m,j) < obj_fun(1/3,1/3,1/3,m,j-1):\n",
    "        theta = j\n",
    "        U = np.append(U,[obj_fun(1/3,1/3,1/3,m,theta)])\n",
    "        theta_value = np.append(theta_value,[theta])\n",
    "        m_value = np.append(m_value,[m])\n",
    "    else:\n",
    "        break\n",
    "for i in range(v+1,M):\n",
    "    if  obj_fun(1/3,1/3,1/3,i,theta) < obj_fun(1/3,1/3,1/3,i-1,theta):\n",
    "        m = i\n",
    "        U = np.append(U,[obj_fun(1/3,1/3,1/3,m,theta)])\n",
    "        theta_value = np.append(theta_value,[theta])\n",
    "        m_value = np.append(m_value,[m])\n",
    "    else:\n",
    "        break\n",
    "print(m, theta)\n",
    "print(U)\n",
    "print(m_value)\n",
    "print(theta_value)"
   ]
  },
  {
   "cell_type": "markdown",
   "id": "0bce8f51",
   "metadata": {},
   "source": [
    "#### Plot the Result"
   ]
  },
  {
   "cell_type": "code",
   "execution_count": 27,
   "id": "5a9b9763",
   "metadata": {},
   "outputs": [
    {
     "data": {
      "image/png": "[encoded data removed]",
      "text/plain": [
       "<Figure size 432x288 with 1 Axes>"
      ]
     },
     "metadata": {
      "needs_background": "light"
     },
     "output_type": "display_data"
    }
   ],
   "source": [
    "ax = plt.subplot(projection = '3d')  # 创建一个三维的绘图工程\n",
    "ax.set_title('result')  # 设置本图名称\n",
    "ax.scatter(theta_value, m_value, U, c = 'r')   # 绘制数据点 c: 'r'红色，'y'黄色，等颜色\n",
    " \n",
    "ax.set_xlabel('theta')  # 设置x坐标轴\n",
    "ax.set_ylabel('m')  # 设置y坐标轴\n",
    "ax.set_zlabel('U')  # 设置z坐标轴\n",
    " \n",
    "plt.show()"
   ]
  },
  {
   "cell_type": "markdown",
   "id": "ff677c37",
   "metadata": {},
   "source": [
    "#### Method 2: 先处理m"
   ]
  },
  {
   "cell_type": "code",
   "execution_count": 28,
   "id": "72bb926c",
   "metadata": {},
   "outputs": [
    {
     "name": "stdout",
     "output_type": "stream",
     "text": [
      "[0.4685828]\n"
     ]
    }
   ],
   "source": [
    "U0 = []\n",
    "U = np.array(U0)\n",
    "m_value = np.array(v)\n",
    "theta_value = np.array(t)\n",
    "\n",
    "# initialise\n",
    "U = np.append(U,[obj_fun(1/3,1/3,1/3,v,t)])\n",
    "theta = 2\n",
    "m = 2\n",
    "print(U)"
   ]
  },
  {
   "cell_type": "code",
   "execution_count": 29,
   "id": "60e3fe24",
   "metadata": {},
   "outputs": [
    {
     "name": "stdout",
     "output_type": "stream",
     "text": [
      "2 9\n",
      "[0.4685828  0.42946774 0.41156929 0.40215748 0.39698899 0.39424525\n",
      " 0.39301699 0.39279904]\n",
      "[2 2 2 2 2 2 2 2]\n",
      "[2 3 4 5 6 7 8 9]\n"
     ]
    }
   ],
   "source": [
    "for i in range(v+1,M):\n",
    "    if  obj_fun(1/3,1/3,1/3,i,theta) < obj_fun(1/3,1/3,1/3,i-1,theta):\n",
    "        m = i\n",
    "        U = np.append(U,[obj_fun(1/3,1/3,1/3,m,theta)])\n",
    "        theta_value = np.append(theta_value,[theta])\n",
    "        m_value = np.append(m_value,[m])\n",
    "    else:\n",
    "        break\n",
    "for j in range(t+1,N):\n",
    "    if  obj_fun(1/3,1/3,1/3,m,j) < obj_fun(1/3,1/3,1/3,m,j-1):\n",
    "        theta = j\n",
    "        U = np.append(U,[obj_fun(1/3,1/3,1/3,m,theta)])\n",
    "        theta_value = np.append(theta_value,[theta])\n",
    "        m_value = np.append(m_value,[m])\n",
    "    else:\n",
    "        break\n",
    "print(m,theta)\n",
    "print(U)\n",
    "print(m_value)\n",
    "print(theta_value)"
   ]
  },
  {
   "cell_type": "code",
   "execution_count": 30,
   "id": "217df869",
   "metadata": {
    "scrolled": false
   },
   "outputs": [
    {
     "data": {
      "image/png": "[encoded data removed]",
      "text/plain": [
       "<Figure size 432x288 with 1 Axes>"
      ]
     },
     "metadata": {
      "needs_background": "light"
     },
     "output_type": "display_data"
    }
   ],
   "source": [
    "ax = plt.subplot(projection = '3d')  # 创建一个三维的绘图工程\n",
    "ax.set_title('result')  # 设置本图名称\n",
    "ax.scatter(theta_value, m_value, U, c = 'r')   # 绘制数据点 c: 'r'红色，'y'黄色，等颜色\n",
    " \n",
    "ax.set_xlabel('theta')  # 设置x坐标轴\n",
    "ax.set_ylabel('m')  # 设置y坐标轴\n",
    "ax.set_zlabel('U')  # 设置z坐标轴\n",
    " \n",
    "plt.show()"
   ]
  },
  {
   "cell_type": "code",
   "execution_count": 32,
   "id": "dc286a27",
   "metadata": {},
   "outputs": [
    {
     "name": "stdout",
     "output_type": "stream",
     "text": [
      "0.3927990355564918 0.3927990355564918 0.14323212310885955\n"
     ]
    }
   ],
   "source": [
    "print(obj_fun(1/3,1/3,1/3,2,9), obj_fun(1/3,1/3,1/3,2,9), obj_fun(1/3,1/3,1/3,10,6))\n",
    "\n",
    "# (复现先theta, 复现先m, PSO, GA)"
   ]
  },
  {
   "cell_type": "markdown",
   "id": "bac03055",
   "metadata": {},
   "source": [
    "##### Conclusion: 穷举法效率太低；先处理一个参数再处理另外一个可能得到的不是全局最优解"
   ]
  },
  {
   "cell_type": "markdown",
   "id": "10c934a7",
   "metadata": {},
   "source": [
    "##### "
   ]
  },
  {
   "cell_type": "markdown",
   "id": "b489d1ba",
   "metadata": {},
   "source": [
    "##### "
   ]
  },
  {
   "cell_type": "markdown",
   "id": "032c974f",
   "metadata": {},
   "source": [
    "##### "
   ]
  },
  {
   "cell_type": "markdown",
   "id": "47a3ec39",
   "metadata": {},
   "source": [
    "### PSO"
   ]
  },
  {
   "cell_type": "code",
   "execution_count": 35,
   "id": "a402cbd8",
   "metadata": {},
   "outputs": [],
   "source": [
    "from BH_PSO_Final import species_origin_pso"
   ]
  },
  {
   "cell_type": "code",
   "execution_count": 36,
   "id": "dc20aaf5",
   "metadata": {},
   "outputs": [
    {
     "data": {
      "text/plain": [
       "[[6, 9, array([1, 1, 1, 0, 1, 0, 1, 0, 0, 1])],\n",
       " [5, 5, array([0, 0, 1, 1, 1, 0, 1, 0, 1, 0])],\n",
       " [6, 2, array([1, 1, 1, 1, 0, 0, 1, 1, 0, 0])],\n",
       " [4, 6, array([1, 0, 0, 0, 1, 0, 1, 0, 0, 1])],\n",
       " [9, 14, array([0, 1, 1, 1, 1, 1, 1, 1, 1, 1])],\n",
       " [2, 13, array([0, 0, 0, 0, 0, 1, 0, 0, 1, 0])],\n",
       " [6, 16, array([0, 0, 1, 0, 1, 1, 0, 1, 1, 1])],\n",
       " [8, 12, array([1, 1, 1, 1, 1, 1, 0, 1, 1, 0])],\n",
       " [4, 4, array([1, 0, 1, 1, 0, 0, 0, 0, 0, 1])],\n",
       " [5, 19, array([0, 1, 1, 1, 1, 0, 1, 0, 0, 0])]]"
      ]
     },
     "execution_count": 36,
     "metadata": {},
     "output_type": "execute_result"
    }
   ],
   "source": [
    "species_origin_pso(10,2,10,2,20)"
   ]
  },
  {
   "cell_type": "code",
   "execution_count": null,
   "id": "7ca619fb",
   "metadata": {},
   "outputs": [],
   "source": []
  },
  {
   "cell_type": "code",
   "execution_count": null,
   "id": "e0f4a6c9",
   "metadata": {},
   "outputs": [],
   "source": []
  },
  {
   "cell_type": "markdown",
   "id": "47ddf469",
   "metadata": {},
   "source": [
    "##### "
   ]
  },
  {
   "cell_type": "markdown",
   "id": "3cc650d9",
   "metadata": {},
   "source": [
    "##### "
   ]
  },
  {
   "cell_type": "markdown",
   "id": "054d3bbb",
   "metadata": {},
   "source": [
    "##### "
   ]
  },
  {
   "cell_type": "markdown",
   "id": "11f3b66a",
   "metadata": {},
   "source": [
    "### GA"
   ]
  },
  {
   "cell_type": "code",
   "execution_count": null,
   "id": "52b4c36c",
   "metadata": {},
   "outputs": [],
   "source": []
  },
  {
   "cell_type": "markdown",
   "id": "ee54c5ac",
   "metadata": {},
   "source": [
    "##### "
   ]
  },
  {
   "cell_type": "markdown",
   "id": "6004edfc",
   "metadata": {},
   "source": [
    "##### "
   ]
  },
  {
   "cell_type": "markdown",
   "id": "f1d55104",
   "metadata": {},
   "source": [
    "##### "
   ]
  },
  {
   "cell_type": "markdown",
   "id": "ae67d4f5",
   "metadata": {},
   "source": [
    "### SA"
   ]
  },
  {
   "cell_type": "code",
   "execution_count": null,
   "id": "2938a81d",
   "metadata": {},
   "outputs": [],
   "source": []
  },
  {
   "cell_type": "markdown",
   "id": "9fb22caa",
   "metadata": {},
   "source": [
    "##### "
   ]
  },
  {
   "cell_type": "markdown",
   "id": "03d9e715",
   "metadata": {},
   "source": [
    "##### "
   ]
  },
  {
   "cell_type": "markdown",
   "id": "212d37ef",
   "metadata": {},
   "source": [
    "##### "
   ]
  },
  {
   "cell_type": "markdown",
   "id": "37cab14f",
   "metadata": {},
   "source": [
    "#### "
   ]
  },
  {
   "cell_type": "markdown",
   "id": "bca827ad",
   "metadata": {},
   "source": [
    "##### "
   ]
  },
  {
   "cell_type": "markdown",
   "id": "1dd3b85b",
   "metadata": {},
   "source": [
    "### 辅助知识"
   ]
  },
  {
   "cell_type": "markdown",
   "id": "150b2d94",
   "metadata": {},
   "source": [
    "sys"
   ]
  },
  {
   "cell_type": "code",
   "execution_count": null,
   "id": "1e71fd89",
   "metadata": {},
   "outputs": [],
   "source": [
    "# maxsize attribute of the sys module fetches the largest value of variable of data type Py_ssize_t can store. \n",
    "# It is the Python platform’s pointer that dictates the maximum size of lists and strings in Python. \n",
    "# The size value returned by maxsize depends on the platform architecture.\n",
    "\n",
    "# 32-bit: the value will be 2^31 -1, i.e. 2147483647\n",
    "# 64-bit: the value will be 2^63 – 1, i.e. 9223372036854775807\n",
    "\n",
    "# sys.maxsize: 表示操作系统承载的最大int值\n",
    "\n",
    "bestVal = sys.maxsize\n",
    "print(bestVal)"
   ]
  },
  {
   "cell_type": "markdown",
   "id": "5324a595",
   "metadata": {},
   "source": [
    "##### "
   ]
  },
  {
   "cell_type": "markdown",
   "id": "e7a049dc",
   "metadata": {},
   "source": [
    "zip"
   ]
  },
  {
   "cell_type": "code",
   "execution_count": null,
   "id": "98076014",
   "metadata": {},
   "outputs": [],
   "source": [
    "# zip\n",
    "# Make an iterator that aggregates elements from each of the iterables.\n",
    "# Returns an iterator of tuples, where the i-th tuple contains the i-th element from each of the argument sequences or iterables. \n",
    "# The iterator stops when the shortest input iterable is exhausted. With a single iterable argument, it returns an iterator of 1-tuples. \n",
    "# With no arguments, it returns an empty iterator.\n",
    "\n",
    "\n",
    "# >>> a = ['a', 'b', 'c', 'd']\n",
    "# >>> b = ['1', '2', '3', '4']\n",
    "# >>> list(zip(a, b))\n",
    "# [('a', '1'), ('b', '2'), ('c', '3'), ('d', '4')]\n",
    "\n",
    "bestVal = sum([x*y for x,y in zip(c, bestX)])\n",
    "print(bestVal)"
   ]
  },
  {
   "cell_type": "markdown",
   "id": "5bf979d7",
   "metadata": {},
   "source": [
    "##### "
   ]
  },
  {
   "cell_type": "markdown",
   "id": "c8b14056",
   "metadata": {},
   "source": [
    "enumerate"
   ]
  },
  {
   "cell_type": "code",
   "execution_count": null,
   "id": "8aaaef7c",
   "metadata": {},
   "outputs": [],
   "source": [
    "# 遍历一个集合对象，它在遍历的同时还可以得到当前元素的索引位置。\n",
    "\n",
    "names = [\"Alice\",\"Bob\",\"Carl\"]\n",
    "for index,value in enumerate(names):\n",
    "    print(f'{index}: {value}')"
   ]
  },
  {
   "cell_type": "markdown",
   "id": "15f7ee26",
   "metadata": {},
   "source": [
    "##### "
   ]
  },
  {
   "cell_type": "markdown",
   "id": "bf1e9416",
   "metadata": {},
   "source": [
    "len"
   ]
  },
  {
   "cell_type": "code",
   "execution_count": null,
   "id": "8faa0e1b",
   "metadata": {},
   "outputs": [],
   "source": [
    "# 返回字符串、列表、字典、元组等长度"
   ]
  },
  {
   "cell_type": "markdown",
   "id": "b1cff9f8",
   "metadata": {},
   "source": [
    "##### ———————————————————————————————————————————————————————————————————"
   ]
  },
  {
   "cell_type": "markdown",
   "id": "901a4f2f",
   "metadata": {},
   "source": [
    "### pulp包暴力解法"
   ]
  },
  {
   "cell_type": "markdown",
   "id": "c780c478",
   "metadata": {},
   "source": [
    "### 待解决问题：好像不能用定义的变量m直接放在其他变量的计算中"
   ]
  },
  {
   "cell_type": "markdown",
   "id": "83f670e6",
   "metadata": {},
   "source": [
    "### 考虑解决方法：加入0-1变量，先生成一整个Xi的集合，然后再通过0-1变量选取最优解"
   ]
  },
  {
   "cell_type": "markdown",
   "id": "8e970b43",
   "metadata": {},
   "source": [
    "### 问题： max在目标函数里面用不了(含自定义的0-1变量) & 含自定义的变量不能加和"
   ]
  },
  {
   "cell_type": "code",
   "execution_count": null,
   "id": "facb7ad6",
   "metadata": {},
   "outputs": [],
   "source": [
    "v = 2  # lower limit of m\n",
    "M = 10  # upper limit of m\n",
    "t = 2  # lower limit of theta\n",
    "N = 20  # upper limit of theta\n",
    "\n",
    "OPT = pulp.LpProblem(\"OPT\", LpMinimize)\n",
    "\n",
    "m = pulp.LpVariable('m', lowBound=v, upBound=M, cat='Integer') \n",
    "theta = pulp.LpVariable('theta', lowBound=t, upBound=N, cat='Integer') \n",
    "\n",
    "# for i in range(M):\n",
    "#    x[i] = pulp.LpVariable('x[i]', cat='Binary')\n",
    "#???怎么用一个循环或者函数一次生成多个\n",
    "z = []\n",
    "for i in range(1, 21):   \n",
    "    z_temp = pulp.LpVariable('z'+str(i), cat='Binary')\n",
    "    z.append(z_temp)\n",
    "\n",
    "opt_vars = LpVariable.dicts(\"bin\",z,cat='Binary')\n",
    "    \n",
    "Xi = np.random.uniform(10**3*8/128, 10**6*8/128, [1,M])  \n",
    "\n",
    "def dotprod (z, Xi):\n",
    "    XI = []\n",
    "    for i in range(M):\n",
    "        XI_temp = z[i]*Xi[i]\n",
    "        XI = [XI, XI_temp]\n",
    "    return XI\n",
    "\n",
    "\n",
    "\n",
    "\n",
    "# L = (theta*B/rd)+np.max(K/Xi)+(psi*theta*B*m)+(O/ru)\n",
    "beta1 = 1/3\n",
    "B = 1\n",
    "rd = 1.2*1024\n",
    "\n",
    "K = np.random.uniform(50, 500, 1)\n",
    "### ???不能用np.max   maxK_Xi = np.max(dotprod(z,Xi/K))\n",
    "### maxK_Xi = max([Xi[i]*opt_vars[i]/K for i in z])\n",
    "\n",
    "psi = 0.5\n",
    "\n",
    "O = 0.5*1024\n",
    "ru = 1.3*1024\n",
    "\n",
    "\n",
    "# S = kappa*m**q\n",
    "beta2 = 1/3\n",
    "kappa = np.random.uniform(1, 10, 1)\n",
    "q = np.random.uniform(2, 10, 1)\n",
    "\n",
    "\n",
    "# C = np.sum(ci[0,0:v])/theta\n",
    "beta3 = 1/3\n",
    "rho = np.random.normal(100, 5, M)\n",
    "# ci = lpSum([rho[i]*Xi[i]*opt_vars[i] for i in z])\n",
    "# ci = lpSum(dotprod (z, rho*Xi))\n",
    "\n",
    "\n",
    "# # max\n",
    "# # L_m = (N*B/rd)+np.max(dotprod(z,Xi/K))+(psi*N*B*M)+(O/ru)\n",
    "# L_m = (N*B/rd)+np.max(Xi/K)+(psi*N*B*M)+(O/ru)\n",
    "# S_m = kappa*M**q\n",
    "# C_m = np.sum(rho*Xi)/t\n",
    "\n",
    "# # L = (theta*B/rd)+np.max(dotprod(z,Xi/K))+(psi*theta*B*m)+(O/ru)  # Latency\n",
    "# # L = (theta*B/rd)+maxK_Xi+(psi*theta*B*m)+(O/ru)\n",
    "\n",
    "# L = (theta*B/rd)+np.max(Xi/K)+(psi*theta*B*m)+(O/ru)\n",
    "# S = kappa*m**q  # Secuity\n",
    "# C = lpSum([rho[i]*Xi[i]*opt_vars[i] for i in z])/theta  # Cost\n",
    "\n",
    "\n",
    "    \n",
    "# OPT += beta1*(L/L_m)+beta2*(S_m/S)+beta3*(C/C_m)\n",
    "\n",
    "OPT += beta1*(((theta*B/rd)+np.max(Xi/K)+(psi*theta*B*m)+(O/ru))/((N*B/rd)+np.max(Xi/K)+(psi*N*B*M)+(O/ru))) + beta2*((kappa*M**q)/(kappa*m**q)) + beta3*((lpSum([rho[i]*Xi[i]*opt_vars[i] for i in z])/theta)/(np.sum(rho*Xi)/t))\n",
    "\n",
    "\n",
    "OPT.solve()\n",
    "\n",
    "print(\"Status:\", pulp.LpStatus[OPT.status])\n",
    "for v in OPT.variables():\n",
    "    print(v.name, \"=\", v.varValue)  # 输出每个变量的最优值\n",
    "print(\"F(x) = \", pulp.value(OPT.objective))  #输出最优解的目标函数值"
   ]
  },
  {
   "cell_type": "markdown",
   "id": "bb00c5be",
   "metadata": {},
   "source": [
    "Example1:\n",
    "\n",
    "max\t\tfx = 2*x1 + 3*x2 - 5*x3\n",
    "s.t.\tx1 + 3*x2 + x3 <= 12\n",
    "\t\t2*x1 - 5*x2 + x3 >= 10\n",
    "\t\tx1 + x2 + x3 = 7\n",
    "\t\tx1, x2, x3 >=0"
   ]
  },
  {
   "cell_type": "code",
   "execution_count": null,
   "id": "6a85fede",
   "metadata": {},
   "outputs": [],
   "source": [
    "import pulp\n",
    "\n",
    "# 定义一个规划问题\n",
    "MyProbLP = pulp.LpProblem(\"LPProbDemo1\", sense=pulp.LpMaximize)\n",
    "# pulp.LpProblem 是定义问题的构造函数。\n",
    "# \"LPProbDemo1\"是用户定义的问题名（用于输出信息）。\n",
    "# 参数 sense 用来指定求最小值/最大值问题，可选参数值：LpMinimize、LpMaximize\n",
    "\n",
    "\n",
    "# 定义变量\n",
    "x1 = pulp.LpVariable('x1', lowBound=0, upBound=7, cat='Continuous') \n",
    "x2 = pulp.LpVariable('x2', lowBound=0, upBound=7, cat='Continuous') \n",
    "x3 = pulp.LpVariable('x3', lowBound=0, upBound=7, cat='Continuous') \n",
    "# pulp.LpVariable 是定义决策变量的函数。\n",
    "# ‘x1’ 是用户定义的变量名。\n",
    "# 参数 lowBound、upBound 用来设定决策变量的下界、上界；可以不定义下界/上界，默认的下界/上界是负无穷/正无穷。本例中 x1,x2,x3 的取值区间为 [0,7]。\n",
    "# 参数 cat 用来设定变量类型，可选参数值：‘Continuous’ 表示连续变量（默认值）、’ Integer ’ 表示离散变量（用于整数规划问题）、’ Binary ’ 表示0/1变量（用于0/1规划问题）\n",
    "\n",
    "\n",
    "# 设置目标函数\n",
    "MyProbLP += 2*x1 + 3*x2 - 5*x3\n",
    "\n",
    "# 不等式&等式约束条件\n",
    "MyProbLP += (2*x1 - 5*x2 + x3 >= 10)    # 不等式约束\n",
    "MyProbLP += (x1 + 3*x2 + x3 <= 12)    # 不等式约束\n",
    "MyProbLP += (x1 + x2 + x3 == 7)    # 等式约束\n",
    "# 添加约束条件使用 “问题名 += 约束条件表达式” 格式。\n",
    "# 约束条件可以是等式约束或不等式约束，不等式约束可以是 小于等于 或 大于等于，分别使用关键字\">=\"、\"<=“和”==\"\n",
    "\n",
    "\n",
    "# 求解\n",
    "MyProbLP.solve()\n",
    "\n",
    "\n",
    "# 输出求解状态\n",
    "print(\"Status:\", pulp.LpStatus[MyProbLP.status])\n",
    "for v in MyProbLP.variables():\n",
    "    print(v.name, \"=\", v.varValue)  # 输出每个变量的最优值\n",
    "print(\"F(x) = \", pulp.value(MyProbLP.objective))  #输出最优解的目标函数值"
   ]
  },
  {
   "cell_type": "markdown",
   "id": "3088e9b8",
   "metadata": {},
   "source": [
    "solve() 是求解函数。PuLP默认采用 CBC 求解器来求解优化问题，也可以调用其它的优化器来求解，如：GLPK，COIN CLP/CBC，CPLEX，和GUROBI，但需要另外安装"
   ]
  },
  {
   "cell_type": "markdown",
   "id": "ee986636",
   "metadata": {},
   "source": [
    "##### "
   ]
  },
  {
   "cell_type": "markdown",
   "id": "f7dd0fd6",
   "metadata": {},
   "source": [
    "### Branch and Bound (分枝定界算法)"
   ]
  },
  {
   "cell_type": "markdown",
   "id": "998cc209",
   "metadata": {},
   "source": [
    "### 待解决的问题：怎么优化减枝???"
   ]
  },
  {
   "cell_type": "code",
   "execution_count": null,
   "id": "37f31d07",
   "metadata": {},
   "outputs": [],
   "source": [
    "import math\n",
    "from scipy.optimize import linprog\n",
    "import sys\n",
    "\n",
    "# c: Parameters in the objective function\n",
    "# A: Parameters in the inequality constraints (less or equal than)\n",
    "# b: Value on the right side inequality constraint\n",
    "# Aeq: Parameters in the equation constraints (less or equal than)\n",
    "# beq: Value on the right side equation constraint\n",
    "\n",
    "# Min cx\n",
    "# s.t. Ax ≤ b\n",
    "#      Aeqx = beq \n",
    "#      x ∈ Z\n",
    "\n",
    "\n",
    "# 自己写的\n",
    "def integerPro(c, A, b, Aeq, beq, t=1.0E-12):\n",
    "    # 求解松弛问题\n",
    "    res = linprog(c, A_ub=A, b_ub=b, A_eq=Aeq, b_eq=beq)\n",
    "    bestX = res.x\n",
    "    bestVal = res.fun\n",
    "    \n",
    "    # 判断是否满足所有限制条件 & 成功终止优化\n",
    "    if all(((x-math.floor(x)) < t or (math.ceil(x)-x) < t) for x in bestX) and res.status == 0:\n",
    "        return (bestX, bestVal)\n",
    "    \n",
    "    # 没满足整数解的限制条件时进行branch & bound\n",
    "    # 选择一个变量从当前最优解分开，比较两边最近整数解的情况，选择最优解，不断迭代\n",
    "    else:\n",
    "        I = []\n",
    "        for i, x in enumerate(bestX):\n",
    "            if (x-math.floor(x)) > t and (math.ceil(x)-x) > t:\n",
    "                I.append(i)\n",
    "        \n",
    "        ind = I[0]\n",
    "                \n",
    "        up_x = math.ceil(bestX[ind])\n",
    "        down_x = math.floor(bestX[ind])\n",
    "                \n",
    "        newCon1 = [0]*len(bestX)\n",
    "        newCon2 = [0]*len(bestX)\n",
    "        newCon1[i] = 1\n",
    "        newCon2[i] = 1\n",
    "                \n",
    "        newA1 = A.copy()\n",
    "        newA2 = A.copy()\n",
    "        newA1.append(newCon1)\n",
    "        newA2.append(newCon2)\n",
    "               \n",
    "        newB1 = b.copy()\n",
    "        newB2 = b.copy()\n",
    "        newB1.append(np.multiply(-np.ceil(bestX), newCon1))\n",
    "        newB2.append(np.multiply(np.floor(bestX), newCon2))\n",
    "        r1 = integerPro(c, newA1, newB1, Aeq, beq)\n",
    "        r2 = integerPro(c, newA2, newB2, Aeq, beq)\n",
    "        if r1.fun < r2.fun:\n",
    "            return r1\n",
    "        else:\n",
    "            return r2"
   ]
  },
  {
   "cell_type": "code",
   "execution_count": null,
   "id": "d99cc51f",
   "metadata": {},
   "outputs": [],
   "source": [
    "c = [3,4,1]\n",
    "A = [[-1,-6,-2],[-2,0,0]]\n",
    "b = [-5,-3]\n",
    "Aeq = [[0,0,0]]\n",
    "beq = [0]\n",
    "print(integerPro(c, A, b, Aeq, beq))"
   ]
  },
  {
   "cell_type": "code",
   "execution_count": null,
   "id": "e9fcdd95",
   "metadata": {},
   "outputs": [],
   "source": [
    "# 别人的代码\n",
    "def integerPro(c, A, b, Aeq, beq, t=1.0E-12):\n",
    "    # 求解松弛问题\n",
    "    res = linprog(c, A_ub=A, b_ub=b, A_eq=Aeq, b_eq=beq)\n",
    "    bestVal = sys.maxsize  # ???????????这是在干嘛\n",
    "    bestX = res.x\n",
    "    \n",
    "    # 这个条件想干嘛\n",
    "    # 没有x是float / 优化成功终止???\n",
    "    if not(type(res.x) is float or res.status != 0): \n",
    "        bestVal = sum([x*y for x,y in zip(c, bestX)])\n",
    "    \n",
    "    # 为什么前面要写两个判断条件\n",
    "    # 停止条件 & bound (all variables are integer)\n",
    "    if all(((x-math.floor(x)) < t or (math.ceil(x)-x) < t) for x in bestX):\n",
    "        return (bestVal,bestX)\n",
    "    else:\n",
    "        # 进行branch，这里简单选择第一个非整数变量\n",
    "        # ???ind = [i for i, x in enumerate(bestX) if (x-math.floor(x))>t and (math.ceil(x)-x)>t][0]  \n",
    "        # ???这里的 i for i是什么\n",
    "        # 改成下面的了\n",
    "        \n",
    "        I = []\n",
    "        for i, x in enumerate(bestX):\n",
    "            if (x-math.floor(x)) > t and (math.ceil(x)-x) > t:\n",
    "                I.append(i)\n",
    "        \n",
    "        ind = I[0]\n",
    "            \n",
    "        # branch出两个子问题\n",
    "        newCon1 = [0]*len(A[0])\n",
    "        newCon2 = [0]*len(A[0])\n",
    "        newCon1[ind] = -1\n",
    "        newCon2[ind] = 1\n",
    "        newA1 = A.copy()\n",
    "        newA2 = A.copy()\n",
    "        newA1.append(newCon1)\n",
    "        newA2.append(newCon2)\n",
    "        newB1 = b.copy()\n",
    "        newB2 = b.copy()\n",
    "        newB1.append(-np.ceil(bestX[ind]))\n",
    "        newB2.append(math.floor(bestX[ind]))\n",
    "        r1 = integerPro(c, newA1, newB1, Aeq, beq)\n",
    "        r2 = integerPro(c, newA2, newB2, Aeq, beq)\n",
    "        # tree search，这里使用width first\n",
    "        if r1[0] < r2[0]:\n",
    "            return r1\n",
    "        else:\n",
    "            return r2"
   ]
  },
  {
   "cell_type": "code",
   "execution_count": null,
   "id": "5dc02434",
   "metadata": {},
   "outputs": [],
   "source": [
    "c = [3,4,1]\n",
    "A = [[-1,-6,-2],[-2,0,0]]\n",
    "b = [-5,-3]\n",
    "Aeq = [[0,0,0]]\n",
    "beq = [0]\n",
    "print(integerPro(c, A, b, Aeq, beq))"
   ]
  },
  {
   "cell_type": "code",
   "execution_count": null,
   "id": "35aef381",
   "metadata": {},
   "outputs": [],
   "source": [
    "for i, x in enumerate(bestX):\n",
    "    if (x-math.floor(x)) > t and (math.ceil(x)-x) > t:\n",
    "        I.append(i)\n",
    "ind = I[0]\n",
    "print(ind)"
   ]
  },
  {
   "cell_type": "code",
   "execution_count": null,
   "id": "add932cc",
   "metadata": {},
   "outputs": [],
   "source": [
    "c = [3,4,1]\n",
    "A = [[-1,-6,-2],[-2,0,0]]\n",
    "b = [-5,-3]\n",
    "Aeq = [[0,0,0]]\n",
    "beq = [0]\n",
    "\n",
    "res = linprog(c, A_ub=A, b_ub=b, A_eq=Aeq, b_eq=beq)\n",
    "bestVal = sys.maxsize\n",
    "bestX = res.x\n",
    "print(bestVal, bestX)"
   ]
  },
  {
   "cell_type": "code",
   "execution_count": null,
   "id": "75211b4b",
   "metadata": {},
   "outputs": [],
   "source": [
    "res"
   ]
  },
  {
   "cell_type": "code",
   "execution_count": null,
   "id": "10f01d36",
   "metadata": {},
   "outputs": [],
   "source": [
    "for i, x in enumerate(bestX): \n",
    "#    if (x-math.floor(x))>t and (math.ceil(x)-x)>t:\n",
    "        print(x-math.floor(x), math.ceil(x)-x)"
   ]
  },
  {
   "cell_type": "code",
   "execution_count": null,
   "id": "ec2bef71",
   "metadata": {},
   "outputs": [],
   "source": [
    "newCon1 = [0]*len(bestX)\n",
    "newCon2 = [0]*len(bestX)\n",
    "newCon1[i] = 1\n",
    "newCon2[i] = 1\n",
    "print(np.multiply(newCon1, c))"
   ]
  },
  {
   "cell_type": "code",
   "execution_count": null,
   "id": "335cd289",
   "metadata": {},
   "outputs": [],
   "source": [
    "np.ceil(bestX)"
   ]
  }
 ],
 "metadata": {
  "kernelspec": {
   "display_name": "Python 3 (ipykernel)",
   "language": "python",
   "name": "python3"
  },
  "language_info": {
   "codemirror_mode": {
    "name": "ipython",
    "version": 3
   },
   "file_extension": ".py",
   "mimetype": "text/x-python",
   "name": "python",
   "nbconvert_exporter": "python",
   "pygments_lexer": "ipython3",
   "version": "3.9.10"
  }
 },
 "nbformat": 4,
 "nbformat_minor": 5
}
